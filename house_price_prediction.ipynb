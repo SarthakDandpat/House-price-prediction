{
 "cells": [
  {
   "cell_type": "markdown",
   "metadata": {},
   "source": [
    "# Project : House Price Prediction.\n",
    "\n",
    "Pradeep Kumar Singh  \n",
    "25/06/2023\n",
    "\n",
    "## Tools used : \n",
    "Python libraries.\n",
    "\n",
    "## Project details : \n",
    "This project is about Model Selection for house price prediction.\n",
    "\n",
    "**Steps involved**\n",
    "* Data Preprocessing.\n",
    "* Feature Selection and Engineering.\n",
    "* Machine Learning Model Application.\n",
    "* Training Evaluation and Model Selection."
   ]
  },
  {
   "cell_type": "markdown",
   "metadata": {
    "id": "QSghHhtIzjV5"
   },
   "source": [
    "#### Importing libraries"
   ]
  },
  {
   "cell_type": "code",
   "execution_count": 2,
   "metadata": {
    "id": "pNrkfaZWtJJ7"
   },
   "outputs": [
    {
     "name": "stderr",
     "output_type": "stream",
     "text": [
      "C:\\Users\\Abc\\anaconda3\\lib\\site-packages\\scipy\\__init__.py:146: UserWarning: A NumPy version >=1.16.5 and <1.23.0 is required for this version of SciPy (detected version 1.23.5\n",
      "  warnings.warn(f\"A NumPy version >={np_minversion} and <{np_maxversion}\"\n"
     ]
    }
   ],
   "source": [
    "import pandas as pd\n",
    "import matplotlib.pyplot as plt\n",
    "import seaborn as sns\n",
    "from sklearn.model_selection import train_test_split\n",
    "from sklearn.linear_model import LinearRegression\n",
    "from sklearn.linear_model import Lasso\n",
    "from sklearn.tree import DecisionTreeRegressor\n",
    "from sklearn.ensemble import RandomForestRegressor\n",
    "from sklearn import metrics\n",
    "sns.set()"
   ]
  },
  {
   "cell_type": "markdown",
   "metadata": {
    "id": "VrDd3I050OqH"
   },
   "source": [
    "#### Data Collection and Processing"
   ]
  },
  {
   "cell_type": "code",
   "execution_count": 3,
   "metadata": {
    "id": "k0lBJoM90JHf"
   },
   "outputs": [],
   "source": [
    "# loading the data from csv file to pandas dataframe\n",
    "dataset = pd.read_csv('C:/Users/Abc/Downloads/model_deployment/data (2).csv')"
   ]
  },
  {
   "cell_type": "code",
   "execution_count": 4,
   "metadata": {
    "colab": {
     "base_uri": "https://localhost:8080/",
     "height": 198
    },
    "id": "9YKIoB-i0kIi",
    "outputId": "76d663f3-f266-4c82-ecb9-fb4fbb9074ff",
    "scrolled": false
   },
   "outputs": [
    {
     "data": {
      "text/html": [
       "<div>\n",
       "<style scoped>\n",
       "    .dataframe tbody tr th:only-of-type {\n",
       "        vertical-align: middle;\n",
       "    }\n",
       "\n",
       "    .dataframe tbody tr th {\n",
       "        vertical-align: top;\n",
       "    }\n",
       "\n",
       "    .dataframe thead th {\n",
       "        text-align: right;\n",
       "    }\n",
       "</style>\n",
       "<table border=\"1\" class=\"dataframe\">\n",
       "  <thead>\n",
       "    <tr style=\"text-align: right;\">\n",
       "      <th></th>\n",
       "      <th>date</th>\n",
       "      <th>price</th>\n",
       "      <th>bedrooms</th>\n",
       "      <th>bathrooms</th>\n",
       "      <th>sqft_living</th>\n",
       "      <th>sqft_lot</th>\n",
       "      <th>floors</th>\n",
       "      <th>waterfront</th>\n",
       "      <th>view</th>\n",
       "      <th>condition</th>\n",
       "      <th>sqft_above</th>\n",
       "      <th>sqft_basement</th>\n",
       "      <th>yr_built</th>\n",
       "      <th>yr_renovated</th>\n",
       "      <th>street</th>\n",
       "      <th>city</th>\n",
       "      <th>statezip</th>\n",
       "      <th>country</th>\n",
       "    </tr>\n",
       "  </thead>\n",
       "  <tbody>\n",
       "    <tr>\n",
       "      <th>0</th>\n",
       "      <td>2014-05-02 00:00:00</td>\n",
       "      <td>313000.0</td>\n",
       "      <td>3.0</td>\n",
       "      <td>1.50</td>\n",
       "      <td>1340</td>\n",
       "      <td>7912</td>\n",
       "      <td>1.5</td>\n",
       "      <td>0</td>\n",
       "      <td>0</td>\n",
       "      <td>3</td>\n",
       "      <td>1340</td>\n",
       "      <td>0</td>\n",
       "      <td>1955</td>\n",
       "      <td>2005</td>\n",
       "      <td>18810 Densmore Ave N</td>\n",
       "      <td>Shoreline</td>\n",
       "      <td>WA 98133</td>\n",
       "      <td>USA</td>\n",
       "    </tr>\n",
       "    <tr>\n",
       "      <th>1</th>\n",
       "      <td>2014-05-02 00:00:00</td>\n",
       "      <td>2384000.0</td>\n",
       "      <td>5.0</td>\n",
       "      <td>2.50</td>\n",
       "      <td>3650</td>\n",
       "      <td>9050</td>\n",
       "      <td>2.0</td>\n",
       "      <td>0</td>\n",
       "      <td>4</td>\n",
       "      <td>5</td>\n",
       "      <td>3370</td>\n",
       "      <td>280</td>\n",
       "      <td>1921</td>\n",
       "      <td>0</td>\n",
       "      <td>709 W Blaine St</td>\n",
       "      <td>Seattle</td>\n",
       "      <td>WA 98119</td>\n",
       "      <td>USA</td>\n",
       "    </tr>\n",
       "    <tr>\n",
       "      <th>2</th>\n",
       "      <td>2014-05-02 00:00:00</td>\n",
       "      <td>342000.0</td>\n",
       "      <td>3.0</td>\n",
       "      <td>2.00</td>\n",
       "      <td>1930</td>\n",
       "      <td>11947</td>\n",
       "      <td>1.0</td>\n",
       "      <td>0</td>\n",
       "      <td>0</td>\n",
       "      <td>4</td>\n",
       "      <td>1930</td>\n",
       "      <td>0</td>\n",
       "      <td>1966</td>\n",
       "      <td>0</td>\n",
       "      <td>26206-26214 143rd Ave SE</td>\n",
       "      <td>Kent</td>\n",
       "      <td>WA 98042</td>\n",
       "      <td>USA</td>\n",
       "    </tr>\n",
       "    <tr>\n",
       "      <th>3</th>\n",
       "      <td>2014-05-02 00:00:00</td>\n",
       "      <td>420000.0</td>\n",
       "      <td>3.0</td>\n",
       "      <td>2.25</td>\n",
       "      <td>2000</td>\n",
       "      <td>8030</td>\n",
       "      <td>1.0</td>\n",
       "      <td>0</td>\n",
       "      <td>0</td>\n",
       "      <td>4</td>\n",
       "      <td>1000</td>\n",
       "      <td>1000</td>\n",
       "      <td>1963</td>\n",
       "      <td>0</td>\n",
       "      <td>857 170th Pl NE</td>\n",
       "      <td>Bellevue</td>\n",
       "      <td>WA 98008</td>\n",
       "      <td>USA</td>\n",
       "    </tr>\n",
       "    <tr>\n",
       "      <th>4</th>\n",
       "      <td>2014-05-02 00:00:00</td>\n",
       "      <td>550000.0</td>\n",
       "      <td>4.0</td>\n",
       "      <td>2.50</td>\n",
       "      <td>1940</td>\n",
       "      <td>10500</td>\n",
       "      <td>1.0</td>\n",
       "      <td>0</td>\n",
       "      <td>0</td>\n",
       "      <td>4</td>\n",
       "      <td>1140</td>\n",
       "      <td>800</td>\n",
       "      <td>1976</td>\n",
       "      <td>1992</td>\n",
       "      <td>9105 170th Ave NE</td>\n",
       "      <td>Redmond</td>\n",
       "      <td>WA 98052</td>\n",
       "      <td>USA</td>\n",
       "    </tr>\n",
       "    <tr>\n",
       "      <th>5</th>\n",
       "      <td>2014-05-02 00:00:00</td>\n",
       "      <td>490000.0</td>\n",
       "      <td>2.0</td>\n",
       "      <td>1.00</td>\n",
       "      <td>880</td>\n",
       "      <td>6380</td>\n",
       "      <td>1.0</td>\n",
       "      <td>0</td>\n",
       "      <td>0</td>\n",
       "      <td>3</td>\n",
       "      <td>880</td>\n",
       "      <td>0</td>\n",
       "      <td>1938</td>\n",
       "      <td>1994</td>\n",
       "      <td>522 NE 88th St</td>\n",
       "      <td>Seattle</td>\n",
       "      <td>WA 98115</td>\n",
       "      <td>USA</td>\n",
       "    </tr>\n",
       "    <tr>\n",
       "      <th>6</th>\n",
       "      <td>2014-05-02 00:00:00</td>\n",
       "      <td>335000.0</td>\n",
       "      <td>2.0</td>\n",
       "      <td>2.00</td>\n",
       "      <td>1350</td>\n",
       "      <td>2560</td>\n",
       "      <td>1.0</td>\n",
       "      <td>0</td>\n",
       "      <td>0</td>\n",
       "      <td>3</td>\n",
       "      <td>1350</td>\n",
       "      <td>0</td>\n",
       "      <td>1976</td>\n",
       "      <td>0</td>\n",
       "      <td>2616 174th Ave NE</td>\n",
       "      <td>Redmond</td>\n",
       "      <td>WA 98052</td>\n",
       "      <td>USA</td>\n",
       "    </tr>\n",
       "    <tr>\n",
       "      <th>7</th>\n",
       "      <td>2014-05-02 00:00:00</td>\n",
       "      <td>482000.0</td>\n",
       "      <td>4.0</td>\n",
       "      <td>2.50</td>\n",
       "      <td>2710</td>\n",
       "      <td>35868</td>\n",
       "      <td>2.0</td>\n",
       "      <td>0</td>\n",
       "      <td>0</td>\n",
       "      <td>3</td>\n",
       "      <td>2710</td>\n",
       "      <td>0</td>\n",
       "      <td>1989</td>\n",
       "      <td>0</td>\n",
       "      <td>23762 SE 253rd Pl</td>\n",
       "      <td>Maple Valley</td>\n",
       "      <td>WA 98038</td>\n",
       "      <td>USA</td>\n",
       "    </tr>\n",
       "    <tr>\n",
       "      <th>8</th>\n",
       "      <td>2014-05-02 00:00:00</td>\n",
       "      <td>452500.0</td>\n",
       "      <td>3.0</td>\n",
       "      <td>2.50</td>\n",
       "      <td>2430</td>\n",
       "      <td>88426</td>\n",
       "      <td>1.0</td>\n",
       "      <td>0</td>\n",
       "      <td>0</td>\n",
       "      <td>4</td>\n",
       "      <td>1570</td>\n",
       "      <td>860</td>\n",
       "      <td>1985</td>\n",
       "      <td>0</td>\n",
       "      <td>46611-46625 SE 129th St</td>\n",
       "      <td>North Bend</td>\n",
       "      <td>WA 98045</td>\n",
       "      <td>USA</td>\n",
       "    </tr>\n",
       "    <tr>\n",
       "      <th>9</th>\n",
       "      <td>2014-05-02 00:00:00</td>\n",
       "      <td>640000.0</td>\n",
       "      <td>4.0</td>\n",
       "      <td>2.00</td>\n",
       "      <td>1520</td>\n",
       "      <td>6200</td>\n",
       "      <td>1.5</td>\n",
       "      <td>0</td>\n",
       "      <td>0</td>\n",
       "      <td>3</td>\n",
       "      <td>1520</td>\n",
       "      <td>0</td>\n",
       "      <td>1945</td>\n",
       "      <td>2010</td>\n",
       "      <td>6811 55th Ave NE</td>\n",
       "      <td>Seattle</td>\n",
       "      <td>WA 98115</td>\n",
       "      <td>USA</td>\n",
       "    </tr>\n",
       "    <tr>\n",
       "      <th>10</th>\n",
       "      <td>2014-05-02 00:00:00</td>\n",
       "      <td>463000.0</td>\n",
       "      <td>3.0</td>\n",
       "      <td>1.75</td>\n",
       "      <td>1710</td>\n",
       "      <td>7320</td>\n",
       "      <td>1.0</td>\n",
       "      <td>0</td>\n",
       "      <td>0</td>\n",
       "      <td>3</td>\n",
       "      <td>1710</td>\n",
       "      <td>0</td>\n",
       "      <td>1948</td>\n",
       "      <td>1994</td>\n",
       "      <td>Burke-Gilman Trail</td>\n",
       "      <td>Lake Forest Park</td>\n",
       "      <td>WA 98155</td>\n",
       "      <td>USA</td>\n",
       "    </tr>\n",
       "    <tr>\n",
       "      <th>11</th>\n",
       "      <td>2014-05-02 00:00:00</td>\n",
       "      <td>1400000.0</td>\n",
       "      <td>4.0</td>\n",
       "      <td>2.50</td>\n",
       "      <td>2920</td>\n",
       "      <td>4000</td>\n",
       "      <td>1.5</td>\n",
       "      <td>0</td>\n",
       "      <td>0</td>\n",
       "      <td>5</td>\n",
       "      <td>1910</td>\n",
       "      <td>1010</td>\n",
       "      <td>1909</td>\n",
       "      <td>1988</td>\n",
       "      <td>3838-4098 44th Ave NE</td>\n",
       "      <td>Seattle</td>\n",
       "      <td>WA 98105</td>\n",
       "      <td>USA</td>\n",
       "    </tr>\n",
       "    <tr>\n",
       "      <th>12</th>\n",
       "      <td>2014-05-02 00:00:00</td>\n",
       "      <td>588500.0</td>\n",
       "      <td>3.0</td>\n",
       "      <td>1.75</td>\n",
       "      <td>2330</td>\n",
       "      <td>14892</td>\n",
       "      <td>1.0</td>\n",
       "      <td>0</td>\n",
       "      <td>0</td>\n",
       "      <td>3</td>\n",
       "      <td>1970</td>\n",
       "      <td>360</td>\n",
       "      <td>1980</td>\n",
       "      <td>0</td>\n",
       "      <td>1833 220th Pl NE</td>\n",
       "      <td>Sammamish</td>\n",
       "      <td>WA 98074</td>\n",
       "      <td>USA</td>\n",
       "    </tr>\n",
       "    <tr>\n",
       "      <th>13</th>\n",
       "      <td>2014-05-02 00:00:00</td>\n",
       "      <td>365000.0</td>\n",
       "      <td>3.0</td>\n",
       "      <td>1.00</td>\n",
       "      <td>1090</td>\n",
       "      <td>6435</td>\n",
       "      <td>1.0</td>\n",
       "      <td>0</td>\n",
       "      <td>0</td>\n",
       "      <td>4</td>\n",
       "      <td>1090</td>\n",
       "      <td>0</td>\n",
       "      <td>1955</td>\n",
       "      <td>2009</td>\n",
       "      <td>2504 SW Portland Ct</td>\n",
       "      <td>Seattle</td>\n",
       "      <td>WA 98106</td>\n",
       "      <td>USA</td>\n",
       "    </tr>\n",
       "    <tr>\n",
       "      <th>14</th>\n",
       "      <td>2014-05-02 00:00:00</td>\n",
       "      <td>1200000.0</td>\n",
       "      <td>5.0</td>\n",
       "      <td>2.75</td>\n",
       "      <td>2910</td>\n",
       "      <td>9480</td>\n",
       "      <td>1.5</td>\n",
       "      <td>0</td>\n",
       "      <td>0</td>\n",
       "      <td>3</td>\n",
       "      <td>2910</td>\n",
       "      <td>0</td>\n",
       "      <td>1939</td>\n",
       "      <td>1969</td>\n",
       "      <td>3534 46th Ave NE</td>\n",
       "      <td>Seattle</td>\n",
       "      <td>WA 98105</td>\n",
       "      <td>USA</td>\n",
       "    </tr>\n",
       "    <tr>\n",
       "      <th>15</th>\n",
       "      <td>2014-05-02 00:00:00</td>\n",
       "      <td>242500.0</td>\n",
       "      <td>3.0</td>\n",
       "      <td>1.50</td>\n",
       "      <td>1200</td>\n",
       "      <td>9720</td>\n",
       "      <td>1.0</td>\n",
       "      <td>0</td>\n",
       "      <td>0</td>\n",
       "      <td>4</td>\n",
       "      <td>1200</td>\n",
       "      <td>0</td>\n",
       "      <td>1965</td>\n",
       "      <td>0</td>\n",
       "      <td>14034 SE 201st St</td>\n",
       "      <td>Kent</td>\n",
       "      <td>WA 98042</td>\n",
       "      <td>USA</td>\n",
       "    </tr>\n",
       "    <tr>\n",
       "      <th>16</th>\n",
       "      <td>2014-05-02 00:00:00</td>\n",
       "      <td>419000.0</td>\n",
       "      <td>3.0</td>\n",
       "      <td>1.50</td>\n",
       "      <td>1570</td>\n",
       "      <td>6700</td>\n",
       "      <td>1.0</td>\n",
       "      <td>0</td>\n",
       "      <td>0</td>\n",
       "      <td>4</td>\n",
       "      <td>1570</td>\n",
       "      <td>0</td>\n",
       "      <td>1956</td>\n",
       "      <td>0</td>\n",
       "      <td>15424 SE 9th St</td>\n",
       "      <td>Bellevue</td>\n",
       "      <td>WA 98007</td>\n",
       "      <td>USA</td>\n",
       "    </tr>\n",
       "    <tr>\n",
       "      <th>17</th>\n",
       "      <td>2014-05-02 00:00:00</td>\n",
       "      <td>367500.0</td>\n",
       "      <td>4.0</td>\n",
       "      <td>3.00</td>\n",
       "      <td>3110</td>\n",
       "      <td>7231</td>\n",
       "      <td>2.0</td>\n",
       "      <td>0</td>\n",
       "      <td>0</td>\n",
       "      <td>3</td>\n",
       "      <td>3110</td>\n",
       "      <td>0</td>\n",
       "      <td>1997</td>\n",
       "      <td>0</td>\n",
       "      <td>11224 SE 306th Pl</td>\n",
       "      <td>Auburn</td>\n",
       "      <td>WA 98092</td>\n",
       "      <td>USA</td>\n",
       "    </tr>\n",
       "    <tr>\n",
       "      <th>18</th>\n",
       "      <td>2014-05-02 00:00:00</td>\n",
       "      <td>257950.0</td>\n",
       "      <td>3.0</td>\n",
       "      <td>1.75</td>\n",
       "      <td>1370</td>\n",
       "      <td>5858</td>\n",
       "      <td>1.0</td>\n",
       "      <td>0</td>\n",
       "      <td>0</td>\n",
       "      <td>3</td>\n",
       "      <td>1370</td>\n",
       "      <td>0</td>\n",
       "      <td>1987</td>\n",
       "      <td>2000</td>\n",
       "      <td>1605 S 245th Pl</td>\n",
       "      <td>Des Moines</td>\n",
       "      <td>WA 98198</td>\n",
       "      <td>USA</td>\n",
       "    </tr>\n",
       "    <tr>\n",
       "      <th>19</th>\n",
       "      <td>2014-05-02 00:00:00</td>\n",
       "      <td>275000.0</td>\n",
       "      <td>3.0</td>\n",
       "      <td>1.50</td>\n",
       "      <td>1180</td>\n",
       "      <td>10277</td>\n",
       "      <td>1.0</td>\n",
       "      <td>0</td>\n",
       "      <td>0</td>\n",
       "      <td>3</td>\n",
       "      <td>1180</td>\n",
       "      <td>0</td>\n",
       "      <td>1983</td>\n",
       "      <td>2009</td>\n",
       "      <td>12425 415th Ave SE</td>\n",
       "      <td>North Bend</td>\n",
       "      <td>WA 98045</td>\n",
       "      <td>USA</td>\n",
       "    </tr>\n",
       "    <tr>\n",
       "      <th>20</th>\n",
       "      <td>2014-05-02 00:00:00</td>\n",
       "      <td>750000.0</td>\n",
       "      <td>3.0</td>\n",
       "      <td>1.75</td>\n",
       "      <td>2240</td>\n",
       "      <td>10578</td>\n",
       "      <td>2.0</td>\n",
       "      <td>0</td>\n",
       "      <td>0</td>\n",
       "      <td>5</td>\n",
       "      <td>1550</td>\n",
       "      <td>690</td>\n",
       "      <td>1923</td>\n",
       "      <td>0</td>\n",
       "      <td>3225 NE 92nd St</td>\n",
       "      <td>Seattle</td>\n",
       "      <td>WA 98115</td>\n",
       "      <td>USA</td>\n",
       "    </tr>\n",
       "    <tr>\n",
       "      <th>21</th>\n",
       "      <td>2014-05-02 00:00:00</td>\n",
       "      <td>435000.0</td>\n",
       "      <td>4.0</td>\n",
       "      <td>1.00</td>\n",
       "      <td>1450</td>\n",
       "      <td>8800</td>\n",
       "      <td>1.0</td>\n",
       "      <td>0</td>\n",
       "      <td>0</td>\n",
       "      <td>4</td>\n",
       "      <td>1450</td>\n",
       "      <td>0</td>\n",
       "      <td>1954</td>\n",
       "      <td>1979</td>\n",
       "      <td>3922 154th Ave SE</td>\n",
       "      <td>Bellevue</td>\n",
       "      <td>WA 98006</td>\n",
       "      <td>USA</td>\n",
       "    </tr>\n",
       "    <tr>\n",
       "      <th>22</th>\n",
       "      <td>2014-05-02 00:00:00</td>\n",
       "      <td>626000.0</td>\n",
       "      <td>3.0</td>\n",
       "      <td>2.25</td>\n",
       "      <td>1750</td>\n",
       "      <td>1572</td>\n",
       "      <td>2.5</td>\n",
       "      <td>0</td>\n",
       "      <td>0</td>\n",
       "      <td>3</td>\n",
       "      <td>1470</td>\n",
       "      <td>280</td>\n",
       "      <td>2005</td>\n",
       "      <td>0</td>\n",
       "      <td>3140 Franklin Ave E</td>\n",
       "      <td>Seattle</td>\n",
       "      <td>WA 98102</td>\n",
       "      <td>USA</td>\n",
       "    </tr>\n",
       "    <tr>\n",
       "      <th>23</th>\n",
       "      <td>2014-05-02 00:00:00</td>\n",
       "      <td>612500.0</td>\n",
       "      <td>4.0</td>\n",
       "      <td>2.50</td>\n",
       "      <td>2730</td>\n",
       "      <td>12261</td>\n",
       "      <td>2.0</td>\n",
       "      <td>0</td>\n",
       "      <td>0</td>\n",
       "      <td>3</td>\n",
       "      <td>2730</td>\n",
       "      <td>0</td>\n",
       "      <td>1991</td>\n",
       "      <td>0</td>\n",
       "      <td>10212 NE 156th Pl</td>\n",
       "      <td>Bothell</td>\n",
       "      <td>WA 98011</td>\n",
       "      <td>USA</td>\n",
       "    </tr>\n",
       "    <tr>\n",
       "      <th>24</th>\n",
       "      <td>2014-05-02 00:00:00</td>\n",
       "      <td>495000.0</td>\n",
       "      <td>4.0</td>\n",
       "      <td>1.75</td>\n",
       "      <td>1600</td>\n",
       "      <td>6380</td>\n",
       "      <td>1.0</td>\n",
       "      <td>0</td>\n",
       "      <td>0</td>\n",
       "      <td>3</td>\n",
       "      <td>1130</td>\n",
       "      <td>470</td>\n",
       "      <td>1959</td>\n",
       "      <td>1989</td>\n",
       "      <td>2021 NE 100th St</td>\n",
       "      <td>Seattle</td>\n",
       "      <td>WA 98125</td>\n",
       "      <td>USA</td>\n",
       "    </tr>\n",
       "    <tr>\n",
       "      <th>25</th>\n",
       "      <td>2014-05-02 00:00:00</td>\n",
       "      <td>285000.0</td>\n",
       "      <td>3.0</td>\n",
       "      <td>2.50</td>\n",
       "      <td>2090</td>\n",
       "      <td>10834</td>\n",
       "      <td>1.0</td>\n",
       "      <td>0</td>\n",
       "      <td>0</td>\n",
       "      <td>4</td>\n",
       "      <td>1360</td>\n",
       "      <td>730</td>\n",
       "      <td>1987</td>\n",
       "      <td>0</td>\n",
       "      <td>27736 23rd Avenue South</td>\n",
       "      <td>Federal Way</td>\n",
       "      <td>WA 98003</td>\n",
       "      <td>USA</td>\n",
       "    </tr>\n",
       "    <tr>\n",
       "      <th>26</th>\n",
       "      <td>2014-05-02 00:00:00</td>\n",
       "      <td>615000.0</td>\n",
       "      <td>3.0</td>\n",
       "      <td>1.75</td>\n",
       "      <td>2360</td>\n",
       "      <td>7291</td>\n",
       "      <td>1.0</td>\n",
       "      <td>0</td>\n",
       "      <td>0</td>\n",
       "      <td>4</td>\n",
       "      <td>1360</td>\n",
       "      <td>1000</td>\n",
       "      <td>1948</td>\n",
       "      <td>0</td>\n",
       "      <td>8436-8438 41st Ave SW</td>\n",
       "      <td>Seattle</td>\n",
       "      <td>WA 98136</td>\n",
       "      <td>USA</td>\n",
       "    </tr>\n",
       "    <tr>\n",
       "      <th>27</th>\n",
       "      <td>2014-05-02 00:00:00</td>\n",
       "      <td>698000.0</td>\n",
       "      <td>4.0</td>\n",
       "      <td>2.25</td>\n",
       "      <td>2200</td>\n",
       "      <td>11250</td>\n",
       "      <td>1.5</td>\n",
       "      <td>0</td>\n",
       "      <td>0</td>\n",
       "      <td>5</td>\n",
       "      <td>1300</td>\n",
       "      <td>900</td>\n",
       "      <td>1920</td>\n",
       "      <td>0</td>\n",
       "      <td>1036 4th St</td>\n",
       "      <td>Kirkland</td>\n",
       "      <td>WA 98033</td>\n",
       "      <td>USA</td>\n",
       "    </tr>\n",
       "    <tr>\n",
       "      <th>28</th>\n",
       "      <td>2014-05-02 00:00:00</td>\n",
       "      <td>675000.0</td>\n",
       "      <td>5.0</td>\n",
       "      <td>2.50</td>\n",
       "      <td>2820</td>\n",
       "      <td>67518</td>\n",
       "      <td>2.0</td>\n",
       "      <td>0</td>\n",
       "      <td>0</td>\n",
       "      <td>3</td>\n",
       "      <td>2820</td>\n",
       "      <td>0</td>\n",
       "      <td>1979</td>\n",
       "      <td>2014</td>\n",
       "      <td>23525 SE 32nd Way</td>\n",
       "      <td>Issaquah</td>\n",
       "      <td>WA 98029</td>\n",
       "      <td>USA</td>\n",
       "    </tr>\n",
       "    <tr>\n",
       "      <th>29</th>\n",
       "      <td>2014-05-02 00:00:00</td>\n",
       "      <td>790000.0</td>\n",
       "      <td>3.0</td>\n",
       "      <td>2.50</td>\n",
       "      <td>2600</td>\n",
       "      <td>4750</td>\n",
       "      <td>1.0</td>\n",
       "      <td>0</td>\n",
       "      <td>0</td>\n",
       "      <td>4</td>\n",
       "      <td>1700</td>\n",
       "      <td>900</td>\n",
       "      <td>1951</td>\n",
       "      <td>1999</td>\n",
       "      <td>3314 NW 75th St</td>\n",
       "      <td>Seattle</td>\n",
       "      <td>WA 98117</td>\n",
       "      <td>USA</td>\n",
       "    </tr>\n",
       "    <tr>\n",
       "      <th>30</th>\n",
       "      <td>2014-05-02 00:00:00</td>\n",
       "      <td>382500.0</td>\n",
       "      <td>4.0</td>\n",
       "      <td>1.75</td>\n",
       "      <td>1560</td>\n",
       "      <td>8700</td>\n",
       "      <td>1.0</td>\n",
       "      <td>0</td>\n",
       "      <td>0</td>\n",
       "      <td>4</td>\n",
       "      <td>1560</td>\n",
       "      <td>0</td>\n",
       "      <td>1967</td>\n",
       "      <td>0</td>\n",
       "      <td>14104 119th Ave NE</td>\n",
       "      <td>Kirkland</td>\n",
       "      <td>WA 98034</td>\n",
       "      <td>USA</td>\n",
       "    </tr>\n",
       "    <tr>\n",
       "      <th>31</th>\n",
       "      <td>2014-05-02 00:00:00</td>\n",
       "      <td>499950.0</td>\n",
       "      <td>4.0</td>\n",
       "      <td>2.50</td>\n",
       "      <td>2860</td>\n",
       "      <td>3345</td>\n",
       "      <td>2.0</td>\n",
       "      <td>0</td>\n",
       "      <td>0</td>\n",
       "      <td>3</td>\n",
       "      <td>2190</td>\n",
       "      <td>670</td>\n",
       "      <td>2004</td>\n",
       "      <td>2003</td>\n",
       "      <td>20120 137th Ave NE</td>\n",
       "      <td>Woodinville</td>\n",
       "      <td>WA 98072</td>\n",
       "      <td>USA</td>\n",
       "    </tr>\n",
       "    <tr>\n",
       "      <th>32</th>\n",
       "      <td>2014-05-02 00:00:00</td>\n",
       "      <td>650000.0</td>\n",
       "      <td>4.0</td>\n",
       "      <td>2.00</td>\n",
       "      <td>1820</td>\n",
       "      <td>5000</td>\n",
       "      <td>1.5</td>\n",
       "      <td>0</td>\n",
       "      <td>1</td>\n",
       "      <td>3</td>\n",
       "      <td>1640</td>\n",
       "      <td>180</td>\n",
       "      <td>1945</td>\n",
       "      <td>2010</td>\n",
       "      <td>7201-7399 55th Ave NE</td>\n",
       "      <td>Seattle</td>\n",
       "      <td>WA 98115</td>\n",
       "      <td>USA</td>\n",
       "    </tr>\n",
       "    <tr>\n",
       "      <th>33</th>\n",
       "      <td>2014-05-02 00:00:00</td>\n",
       "      <td>625000.0</td>\n",
       "      <td>4.0</td>\n",
       "      <td>2.50</td>\n",
       "      <td>2820</td>\n",
       "      <td>8408</td>\n",
       "      <td>2.0</td>\n",
       "      <td>0</td>\n",
       "      <td>0</td>\n",
       "      <td>3</td>\n",
       "      <td>2820</td>\n",
       "      <td>0</td>\n",
       "      <td>2014</td>\n",
       "      <td>0</td>\n",
       "      <td>17052 4th Ave NE</td>\n",
       "      <td>Shoreline</td>\n",
       "      <td>WA 98155</td>\n",
       "      <td>USA</td>\n",
       "    </tr>\n",
       "    <tr>\n",
       "      <th>34</th>\n",
       "      <td>2014-05-02 00:00:00</td>\n",
       "      <td>400000.0</td>\n",
       "      <td>4.0</td>\n",
       "      <td>2.50</td>\n",
       "      <td>3630</td>\n",
       "      <td>42884</td>\n",
       "      <td>1.5</td>\n",
       "      <td>0</td>\n",
       "      <td>0</td>\n",
       "      <td>3</td>\n",
       "      <td>2300</td>\n",
       "      <td>1330</td>\n",
       "      <td>1979</td>\n",
       "      <td>2014</td>\n",
       "      <td>5172-5198 Heather Ave SE</td>\n",
       "      <td>Auburn</td>\n",
       "      <td>WA 98092</td>\n",
       "      <td>USA</td>\n",
       "    </tr>\n",
       "    <tr>\n",
       "      <th>35</th>\n",
       "      <td>2014-05-02 00:00:00</td>\n",
       "      <td>604000.0</td>\n",
       "      <td>3.0</td>\n",
       "      <td>2.50</td>\n",
       "      <td>3240</td>\n",
       "      <td>33151</td>\n",
       "      <td>2.0</td>\n",
       "      <td>0</td>\n",
       "      <td>2</td>\n",
       "      <td>3</td>\n",
       "      <td>3240</td>\n",
       "      <td>0</td>\n",
       "      <td>1995</td>\n",
       "      <td>0</td>\n",
       "      <td>30822 36th Ct SW</td>\n",
       "      <td>Federal Way</td>\n",
       "      <td>WA 98023</td>\n",
       "      <td>USA</td>\n",
       "    </tr>\n",
       "    <tr>\n",
       "      <th>36</th>\n",
       "      <td>2014-05-02 00:00:00</td>\n",
       "      <td>440000.0</td>\n",
       "      <td>2.0</td>\n",
       "      <td>1.00</td>\n",
       "      <td>800</td>\n",
       "      <td>4850</td>\n",
       "      <td>1.0</td>\n",
       "      <td>0</td>\n",
       "      <td>0</td>\n",
       "      <td>4</td>\n",
       "      <td>800</td>\n",
       "      <td>0</td>\n",
       "      <td>1944</td>\n",
       "      <td>0</td>\n",
       "      <td>4801-4899 6th Ave NW</td>\n",
       "      <td>Seattle</td>\n",
       "      <td>WA 98107</td>\n",
       "      <td>USA</td>\n",
       "    </tr>\n",
       "    <tr>\n",
       "      <th>37</th>\n",
       "      <td>2014-05-02 00:00:00</td>\n",
       "      <td>287200.0</td>\n",
       "      <td>3.0</td>\n",
       "      <td>3.00</td>\n",
       "      <td>1850</td>\n",
       "      <td>19966</td>\n",
       "      <td>1.0</td>\n",
       "      <td>0</td>\n",
       "      <td>0</td>\n",
       "      <td>4</td>\n",
       "      <td>1090</td>\n",
       "      <td>760</td>\n",
       "      <td>1992</td>\n",
       "      <td>0</td>\n",
       "      <td>23017 SE 281st Ct</td>\n",
       "      <td>Maple Valley</td>\n",
       "      <td>WA 98038</td>\n",
       "      <td>USA</td>\n",
       "    </tr>\n",
       "    <tr>\n",
       "      <th>38</th>\n",
       "      <td>2014-05-02 00:00:00</td>\n",
       "      <td>403000.0</td>\n",
       "      <td>3.0</td>\n",
       "      <td>2.00</td>\n",
       "      <td>1960</td>\n",
       "      <td>13100</td>\n",
       "      <td>1.0</td>\n",
       "      <td>0</td>\n",
       "      <td>2</td>\n",
       "      <td>5</td>\n",
       "      <td>1650</td>\n",
       "      <td>310</td>\n",
       "      <td>1957</td>\n",
       "      <td>0</td>\n",
       "      <td>17825 4th Ave SW</td>\n",
       "      <td>Normandy Park</td>\n",
       "      <td>WA 98166</td>\n",
       "      <td>USA</td>\n",
       "    </tr>\n",
       "    <tr>\n",
       "      <th>39</th>\n",
       "      <td>2014-05-02 00:00:00</td>\n",
       "      <td>750000.0</td>\n",
       "      <td>3.0</td>\n",
       "      <td>2.50</td>\n",
       "      <td>2390</td>\n",
       "      <td>6550</td>\n",
       "      <td>1.0</td>\n",
       "      <td>0</td>\n",
       "      <td>2</td>\n",
       "      <td>4</td>\n",
       "      <td>1440</td>\n",
       "      <td>950</td>\n",
       "      <td>1955</td>\n",
       "      <td>2009</td>\n",
       "      <td>3628 59th Ave SW</td>\n",
       "      <td>Seattle</td>\n",
       "      <td>WA 98116</td>\n",
       "      <td>USA</td>\n",
       "    </tr>\n",
       "    <tr>\n",
       "      <th>40</th>\n",
       "      <td>2014-05-02 00:00:00</td>\n",
       "      <td>335000.0</td>\n",
       "      <td>3.0</td>\n",
       "      <td>2.25</td>\n",
       "      <td>1580</td>\n",
       "      <td>16215</td>\n",
       "      <td>1.0</td>\n",
       "      <td>0</td>\n",
       "      <td>0</td>\n",
       "      <td>4</td>\n",
       "      <td>1580</td>\n",
       "      <td>0</td>\n",
       "      <td>1978</td>\n",
       "      <td>2000</td>\n",
       "      <td>4460 332nd Ave SE</td>\n",
       "      <td>Fall City</td>\n",
       "      <td>WA 98024</td>\n",
       "      <td>USA</td>\n",
       "    </tr>\n",
       "    <tr>\n",
       "      <th>41</th>\n",
       "      <td>2014-05-02 00:00:00</td>\n",
       "      <td>260000.0</td>\n",
       "      <td>4.0</td>\n",
       "      <td>2.00</td>\n",
       "      <td>1480</td>\n",
       "      <td>8625</td>\n",
       "      <td>1.0</td>\n",
       "      <td>0</td>\n",
       "      <td>0</td>\n",
       "      <td>4</td>\n",
       "      <td>1480</td>\n",
       "      <td>0</td>\n",
       "      <td>1974</td>\n",
       "      <td>0</td>\n",
       "      <td>2019 Aberdeen Pl SE</td>\n",
       "      <td>Renton</td>\n",
       "      <td>WA 98055</td>\n",
       "      <td>USA</td>\n",
       "    </tr>\n",
       "    <tr>\n",
       "      <th>42</th>\n",
       "      <td>2014-05-02 00:00:00</td>\n",
       "      <td>308500.0</td>\n",
       "      <td>2.0</td>\n",
       "      <td>1.00</td>\n",
       "      <td>850</td>\n",
       "      <td>6174</td>\n",
       "      <td>1.0</td>\n",
       "      <td>0</td>\n",
       "      <td>0</td>\n",
       "      <td>4</td>\n",
       "      <td>850</td>\n",
       "      <td>0</td>\n",
       "      <td>1950</td>\n",
       "      <td>1983</td>\n",
       "      <td>121 NE 147th St</td>\n",
       "      <td>Shoreline</td>\n",
       "      <td>WA 98155</td>\n",
       "      <td>USA</td>\n",
       "    </tr>\n",
       "    <tr>\n",
       "      <th>43</th>\n",
       "      <td>2014-05-02 00:00:00</td>\n",
       "      <td>439950.0</td>\n",
       "      <td>3.0</td>\n",
       "      <td>2.50</td>\n",
       "      <td>1770</td>\n",
       "      <td>2875</td>\n",
       "      <td>2.0</td>\n",
       "      <td>0</td>\n",
       "      <td>0</td>\n",
       "      <td>3</td>\n",
       "      <td>1770</td>\n",
       "      <td>0</td>\n",
       "      <td>1990</td>\n",
       "      <td>2009</td>\n",
       "      <td>4458 51st Ave SW</td>\n",
       "      <td>Seattle</td>\n",
       "      <td>WA 98116</td>\n",
       "      <td>USA</td>\n",
       "    </tr>\n",
       "    <tr>\n",
       "      <th>44</th>\n",
       "      <td>2014-05-02 00:00:00</td>\n",
       "      <td>235000.0</td>\n",
       "      <td>2.0</td>\n",
       "      <td>1.00</td>\n",
       "      <td>1210</td>\n",
       "      <td>9400</td>\n",
       "      <td>1.0</td>\n",
       "      <td>0</td>\n",
       "      <td>0</td>\n",
       "      <td>2</td>\n",
       "      <td>1210</td>\n",
       "      <td>0</td>\n",
       "      <td>1949</td>\n",
       "      <td>0</td>\n",
       "      <td>7542 21st Ave SW</td>\n",
       "      <td>Seattle</td>\n",
       "      <td>WA 98106</td>\n",
       "      <td>USA</td>\n",
       "    </tr>\n",
       "    <tr>\n",
       "      <th>45</th>\n",
       "      <td>2014-05-02 00:00:00</td>\n",
       "      <td>315000.0</td>\n",
       "      <td>3.0</td>\n",
       "      <td>1.00</td>\n",
       "      <td>1160</td>\n",
       "      <td>9180</td>\n",
       "      <td>1.0</td>\n",
       "      <td>0</td>\n",
       "      <td>0</td>\n",
       "      <td>3</td>\n",
       "      <td>1160</td>\n",
       "      <td>0</td>\n",
       "      <td>1968</td>\n",
       "      <td>1997</td>\n",
       "      <td>15804 198th Pl NE</td>\n",
       "      <td>Woodinville</td>\n",
       "      <td>WA 98077</td>\n",
       "      <td>USA</td>\n",
       "    </tr>\n",
       "    <tr>\n",
       "      <th>46</th>\n",
       "      <td>2014-05-02 00:00:00</td>\n",
       "      <td>437500.0</td>\n",
       "      <td>3.0</td>\n",
       "      <td>2.25</td>\n",
       "      <td>1970</td>\n",
       "      <td>35100</td>\n",
       "      <td>2.0</td>\n",
       "      <td>0</td>\n",
       "      <td>0</td>\n",
       "      <td>4</td>\n",
       "      <td>1970</td>\n",
       "      <td>0</td>\n",
       "      <td>1977</td>\n",
       "      <td>0</td>\n",
       "      <td>26069 SE 154th St</td>\n",
       "      <td>Issaquah</td>\n",
       "      <td>WA 98027</td>\n",
       "      <td>USA</td>\n",
       "    </tr>\n",
       "    <tr>\n",
       "      <th>47</th>\n",
       "      <td>2014-05-02 00:00:00</td>\n",
       "      <td>407500.0</td>\n",
       "      <td>3.0</td>\n",
       "      <td>2.50</td>\n",
       "      <td>1930</td>\n",
       "      <td>10460</td>\n",
       "      <td>2.0</td>\n",
       "      <td>0</td>\n",
       "      <td>0</td>\n",
       "      <td>3</td>\n",
       "      <td>1930</td>\n",
       "      <td>0</td>\n",
       "      <td>1996</td>\n",
       "      <td>0</td>\n",
       "      <td>4314 NE 6th Pl</td>\n",
       "      <td>Renton</td>\n",
       "      <td>WA 98059</td>\n",
       "      <td>USA</td>\n",
       "    </tr>\n",
       "    <tr>\n",
       "      <th>48</th>\n",
       "      <td>2014-05-02 00:00:00</td>\n",
       "      <td>445700.0</td>\n",
       "      <td>3.0</td>\n",
       "      <td>2.50</td>\n",
       "      <td>1270</td>\n",
       "      <td>1180</td>\n",
       "      <td>3.0</td>\n",
       "      <td>0</td>\n",
       "      <td>0</td>\n",
       "      <td>3</td>\n",
       "      <td>1270</td>\n",
       "      <td>0</td>\n",
       "      <td>2001</td>\n",
       "      <td>0</td>\n",
       "      <td>2640 NW 56th St</td>\n",
       "      <td>Seattle</td>\n",
       "      <td>WA 98107</td>\n",
       "      <td>USA</td>\n",
       "    </tr>\n",
       "    <tr>\n",
       "      <th>49</th>\n",
       "      <td>2014-05-02 00:00:00</td>\n",
       "      <td>838000.0</td>\n",
       "      <td>4.0</td>\n",
       "      <td>2.50</td>\n",
       "      <td>3310</td>\n",
       "      <td>42998</td>\n",
       "      <td>2.0</td>\n",
       "      <td>0</td>\n",
       "      <td>0</td>\n",
       "      <td>3</td>\n",
       "      <td>3310</td>\n",
       "      <td>0</td>\n",
       "      <td>2001</td>\n",
       "      <td>0</td>\n",
       "      <td>15712 NE 136th Pl</td>\n",
       "      <td>Redmond</td>\n",
       "      <td>WA 98052</td>\n",
       "      <td>USA</td>\n",
       "    </tr>\n",
       "  </tbody>\n",
       "</table>\n",
       "</div>"
      ],
      "text/plain": [
       "                   date      price  bedrooms  bathrooms  sqft_living  \\\n",
       "0   2014-05-02 00:00:00   313000.0       3.0       1.50         1340   \n",
       "1   2014-05-02 00:00:00  2384000.0       5.0       2.50         3650   \n",
       "2   2014-05-02 00:00:00   342000.0       3.0       2.00         1930   \n",
       "3   2014-05-02 00:00:00   420000.0       3.0       2.25         2000   \n",
       "4   2014-05-02 00:00:00   550000.0       4.0       2.50         1940   \n",
       "5   2014-05-02 00:00:00   490000.0       2.0       1.00          880   \n",
       "6   2014-05-02 00:00:00   335000.0       2.0       2.00         1350   \n",
       "7   2014-05-02 00:00:00   482000.0       4.0       2.50         2710   \n",
       "8   2014-05-02 00:00:00   452500.0       3.0       2.50         2430   \n",
       "9   2014-05-02 00:00:00   640000.0       4.0       2.00         1520   \n",
       "10  2014-05-02 00:00:00   463000.0       3.0       1.75         1710   \n",
       "11  2014-05-02 00:00:00  1400000.0       4.0       2.50         2920   \n",
       "12  2014-05-02 00:00:00   588500.0       3.0       1.75         2330   \n",
       "13  2014-05-02 00:00:00   365000.0       3.0       1.00         1090   \n",
       "14  2014-05-02 00:00:00  1200000.0       5.0       2.75         2910   \n",
       "15  2014-05-02 00:00:00   242500.0       3.0       1.50         1200   \n",
       "16  2014-05-02 00:00:00   419000.0       3.0       1.50         1570   \n",
       "17  2014-05-02 00:00:00   367500.0       4.0       3.00         3110   \n",
       "18  2014-05-02 00:00:00   257950.0       3.0       1.75         1370   \n",
       "19  2014-05-02 00:00:00   275000.0       3.0       1.50         1180   \n",
       "20  2014-05-02 00:00:00   750000.0       3.0       1.75         2240   \n",
       "21  2014-05-02 00:00:00   435000.0       4.0       1.00         1450   \n",
       "22  2014-05-02 00:00:00   626000.0       3.0       2.25         1750   \n",
       "23  2014-05-02 00:00:00   612500.0       4.0       2.50         2730   \n",
       "24  2014-05-02 00:00:00   495000.0       4.0       1.75         1600   \n",
       "25  2014-05-02 00:00:00   285000.0       3.0       2.50         2090   \n",
       "26  2014-05-02 00:00:00   615000.0       3.0       1.75         2360   \n",
       "27  2014-05-02 00:00:00   698000.0       4.0       2.25         2200   \n",
       "28  2014-05-02 00:00:00   675000.0       5.0       2.50         2820   \n",
       "29  2014-05-02 00:00:00   790000.0       3.0       2.50         2600   \n",
       "30  2014-05-02 00:00:00   382500.0       4.0       1.75         1560   \n",
       "31  2014-05-02 00:00:00   499950.0       4.0       2.50         2860   \n",
       "32  2014-05-02 00:00:00   650000.0       4.0       2.00         1820   \n",
       "33  2014-05-02 00:00:00   625000.0       4.0       2.50         2820   \n",
       "34  2014-05-02 00:00:00   400000.0       4.0       2.50         3630   \n",
       "35  2014-05-02 00:00:00   604000.0       3.0       2.50         3240   \n",
       "36  2014-05-02 00:00:00   440000.0       2.0       1.00          800   \n",
       "37  2014-05-02 00:00:00   287200.0       3.0       3.00         1850   \n",
       "38  2014-05-02 00:00:00   403000.0       3.0       2.00         1960   \n",
       "39  2014-05-02 00:00:00   750000.0       3.0       2.50         2390   \n",
       "40  2014-05-02 00:00:00   335000.0       3.0       2.25         1580   \n",
       "41  2014-05-02 00:00:00   260000.0       4.0       2.00         1480   \n",
       "42  2014-05-02 00:00:00   308500.0       2.0       1.00          850   \n",
       "43  2014-05-02 00:00:00   439950.0       3.0       2.50         1770   \n",
       "44  2014-05-02 00:00:00   235000.0       2.0       1.00         1210   \n",
       "45  2014-05-02 00:00:00   315000.0       3.0       1.00         1160   \n",
       "46  2014-05-02 00:00:00   437500.0       3.0       2.25         1970   \n",
       "47  2014-05-02 00:00:00   407500.0       3.0       2.50         1930   \n",
       "48  2014-05-02 00:00:00   445700.0       3.0       2.50         1270   \n",
       "49  2014-05-02 00:00:00   838000.0       4.0       2.50         3310   \n",
       "\n",
       "    sqft_lot  floors  waterfront  view  condition  sqft_above  sqft_basement  \\\n",
       "0       7912     1.5           0     0          3        1340              0   \n",
       "1       9050     2.0           0     4          5        3370            280   \n",
       "2      11947     1.0           0     0          4        1930              0   \n",
       "3       8030     1.0           0     0          4        1000           1000   \n",
       "4      10500     1.0           0     0          4        1140            800   \n",
       "5       6380     1.0           0     0          3         880              0   \n",
       "6       2560     1.0           0     0          3        1350              0   \n",
       "7      35868     2.0           0     0          3        2710              0   \n",
       "8      88426     1.0           0     0          4        1570            860   \n",
       "9       6200     1.5           0     0          3        1520              0   \n",
       "10      7320     1.0           0     0          3        1710              0   \n",
       "11      4000     1.5           0     0          5        1910           1010   \n",
       "12     14892     1.0           0     0          3        1970            360   \n",
       "13      6435     1.0           0     0          4        1090              0   \n",
       "14      9480     1.5           0     0          3        2910              0   \n",
       "15      9720     1.0           0     0          4        1200              0   \n",
       "16      6700     1.0           0     0          4        1570              0   \n",
       "17      7231     2.0           0     0          3        3110              0   \n",
       "18      5858     1.0           0     0          3        1370              0   \n",
       "19     10277     1.0           0     0          3        1180              0   \n",
       "20     10578     2.0           0     0          5        1550            690   \n",
       "21      8800     1.0           0     0          4        1450              0   \n",
       "22      1572     2.5           0     0          3        1470            280   \n",
       "23     12261     2.0           0     0          3        2730              0   \n",
       "24      6380     1.0           0     0          3        1130            470   \n",
       "25     10834     1.0           0     0          4        1360            730   \n",
       "26      7291     1.0           0     0          4        1360           1000   \n",
       "27     11250     1.5           0     0          5        1300            900   \n",
       "28     67518     2.0           0     0          3        2820              0   \n",
       "29      4750     1.0           0     0          4        1700            900   \n",
       "30      8700     1.0           0     0          4        1560              0   \n",
       "31      3345     2.0           0     0          3        2190            670   \n",
       "32      5000     1.5           0     1          3        1640            180   \n",
       "33      8408     2.0           0     0          3        2820              0   \n",
       "34     42884     1.5           0     0          3        2300           1330   \n",
       "35     33151     2.0           0     2          3        3240              0   \n",
       "36      4850     1.0           0     0          4         800              0   \n",
       "37     19966     1.0           0     0          4        1090            760   \n",
       "38     13100     1.0           0     2          5        1650            310   \n",
       "39      6550     1.0           0     2          4        1440            950   \n",
       "40     16215     1.0           0     0          4        1580              0   \n",
       "41      8625     1.0           0     0          4        1480              0   \n",
       "42      6174     1.0           0     0          4         850              0   \n",
       "43      2875     2.0           0     0          3        1770              0   \n",
       "44      9400     1.0           0     0          2        1210              0   \n",
       "45      9180     1.0           0     0          3        1160              0   \n",
       "46     35100     2.0           0     0          4        1970              0   \n",
       "47     10460     2.0           0     0          3        1930              0   \n",
       "48      1180     3.0           0     0          3        1270              0   \n",
       "49     42998     2.0           0     0          3        3310              0   \n",
       "\n",
       "    yr_built  yr_renovated                    street              city  \\\n",
       "0       1955          2005      18810 Densmore Ave N         Shoreline   \n",
       "1       1921             0           709 W Blaine St           Seattle   \n",
       "2       1966             0  26206-26214 143rd Ave SE              Kent   \n",
       "3       1963             0           857 170th Pl NE          Bellevue   \n",
       "4       1976          1992         9105 170th Ave NE           Redmond   \n",
       "5       1938          1994            522 NE 88th St           Seattle   \n",
       "6       1976             0         2616 174th Ave NE           Redmond   \n",
       "7       1989             0         23762 SE 253rd Pl      Maple Valley   \n",
       "8       1985             0   46611-46625 SE 129th St        North Bend   \n",
       "9       1945          2010          6811 55th Ave NE           Seattle   \n",
       "10      1948          1994        Burke-Gilman Trail  Lake Forest Park   \n",
       "11      1909          1988     3838-4098 44th Ave NE           Seattle   \n",
       "12      1980             0          1833 220th Pl NE         Sammamish   \n",
       "13      1955          2009       2504 SW Portland Ct           Seattle   \n",
       "14      1939          1969          3534 46th Ave NE           Seattle   \n",
       "15      1965             0         14034 SE 201st St              Kent   \n",
       "16      1956             0           15424 SE 9th St          Bellevue   \n",
       "17      1997             0         11224 SE 306th Pl            Auburn   \n",
       "18      1987          2000           1605 S 245th Pl        Des Moines   \n",
       "19      1983          2009        12425 415th Ave SE        North Bend   \n",
       "20      1923             0           3225 NE 92nd St           Seattle   \n",
       "21      1954          1979         3922 154th Ave SE          Bellevue   \n",
       "22      2005             0       3140 Franklin Ave E           Seattle   \n",
       "23      1991             0         10212 NE 156th Pl           Bothell   \n",
       "24      1959          1989          2021 NE 100th St           Seattle   \n",
       "25      1987             0   27736 23rd Avenue South       Federal Way   \n",
       "26      1948             0     8436-8438 41st Ave SW           Seattle   \n",
       "27      1920             0               1036 4th St          Kirkland   \n",
       "28      1979          2014         23525 SE 32nd Way          Issaquah   \n",
       "29      1951          1999           3314 NW 75th St           Seattle   \n",
       "30      1967             0        14104 119th Ave NE          Kirkland   \n",
       "31      2004          2003        20120 137th Ave NE       Woodinville   \n",
       "32      1945          2010     7201-7399 55th Ave NE           Seattle   \n",
       "33      2014             0          17052 4th Ave NE         Shoreline   \n",
       "34      1979          2014  5172-5198 Heather Ave SE            Auburn   \n",
       "35      1995             0          30822 36th Ct SW       Federal Way   \n",
       "36      1944             0      4801-4899 6th Ave NW           Seattle   \n",
       "37      1992             0         23017 SE 281st Ct      Maple Valley   \n",
       "38      1957             0          17825 4th Ave SW     Normandy Park   \n",
       "39      1955          2009          3628 59th Ave SW           Seattle   \n",
       "40      1978          2000         4460 332nd Ave SE         Fall City   \n",
       "41      1974             0       2019 Aberdeen Pl SE            Renton   \n",
       "42      1950          1983           121 NE 147th St         Shoreline   \n",
       "43      1990          2009          4458 51st Ave SW           Seattle   \n",
       "44      1949             0          7542 21st Ave SW           Seattle   \n",
       "45      1968          1997         15804 198th Pl NE       Woodinville   \n",
       "46      1977             0         26069 SE 154th St          Issaquah   \n",
       "47      1996             0            4314 NE 6th Pl            Renton   \n",
       "48      2001             0           2640 NW 56th St           Seattle   \n",
       "49      2001             0         15712 NE 136th Pl           Redmond   \n",
       "\n",
       "    statezip country  \n",
       "0   WA 98133     USA  \n",
       "1   WA 98119     USA  \n",
       "2   WA 98042     USA  \n",
       "3   WA 98008     USA  \n",
       "4   WA 98052     USA  \n",
       "5   WA 98115     USA  \n",
       "6   WA 98052     USA  \n",
       "7   WA 98038     USA  \n",
       "8   WA 98045     USA  \n",
       "9   WA 98115     USA  \n",
       "10  WA 98155     USA  \n",
       "11  WA 98105     USA  \n",
       "12  WA 98074     USA  \n",
       "13  WA 98106     USA  \n",
       "14  WA 98105     USA  \n",
       "15  WA 98042     USA  \n",
       "16  WA 98007     USA  \n",
       "17  WA 98092     USA  \n",
       "18  WA 98198     USA  \n",
       "19  WA 98045     USA  \n",
       "20  WA 98115     USA  \n",
       "21  WA 98006     USA  \n",
       "22  WA 98102     USA  \n",
       "23  WA 98011     USA  \n",
       "24  WA 98125     USA  \n",
       "25  WA 98003     USA  \n",
       "26  WA 98136     USA  \n",
       "27  WA 98033     USA  \n",
       "28  WA 98029     USA  \n",
       "29  WA 98117     USA  \n",
       "30  WA 98034     USA  \n",
       "31  WA 98072     USA  \n",
       "32  WA 98115     USA  \n",
       "33  WA 98155     USA  \n",
       "34  WA 98092     USA  \n",
       "35  WA 98023     USA  \n",
       "36  WA 98107     USA  \n",
       "37  WA 98038     USA  \n",
       "38  WA 98166     USA  \n",
       "39  WA 98116     USA  \n",
       "40  WA 98024     USA  \n",
       "41  WA 98055     USA  \n",
       "42  WA 98155     USA  \n",
       "43  WA 98116     USA  \n",
       "44  WA 98106     USA  \n",
       "45  WA 98077     USA  \n",
       "46  WA 98027     USA  \n",
       "47  WA 98059     USA  \n",
       "48  WA 98107     USA  \n",
       "49  WA 98052     USA  "
      ]
     },
     "execution_count": 4,
     "metadata": {},
     "output_type": "execute_result"
    }
   ],
   "source": [
    "# inspecting the first 5 rows of the dataframe\n",
    "dataset.head(50)"
   ]
  },
  {
   "cell_type": "code",
   "execution_count": 5,
   "metadata": {
    "colab": {
     "base_uri": "https://localhost:8080/"
    },
    "id": "rpNJj7TN0s0F",
    "outputId": "ec36f597-b99c-4d6d-f65e-5dcb76aeff13"
   },
   "outputs": [
    {
     "data": {
      "text/plain": [
       "(4600, 18)"
      ]
     },
     "execution_count": 5,
     "metadata": {},
     "output_type": "execute_result"
    }
   ],
   "source": [
    "# checking the number of rows and columns\n",
    "dataset.shape"
   ]
  },
  {
   "cell_type": "code",
   "execution_count": 6,
   "metadata": {
    "colab": {
     "base_uri": "https://localhost:8080/"
    },
    "id": "uxeZ9Px708Ek",
    "outputId": "39bf8353-ceec-4093-830f-64f750662c46"
   },
   "outputs": [
    {
     "name": "stdout",
     "output_type": "stream",
     "text": [
      "<class 'pandas.core.frame.DataFrame'>\n",
      "RangeIndex: 4600 entries, 0 to 4599\n",
      "Data columns (total 18 columns):\n",
      " #   Column         Non-Null Count  Dtype  \n",
      "---  ------         --------------  -----  \n",
      " 0   date           4600 non-null   object \n",
      " 1   price          4600 non-null   float64\n",
      " 2   bedrooms       4600 non-null   float64\n",
      " 3   bathrooms      4600 non-null   float64\n",
      " 4   sqft_living    4600 non-null   int64  \n",
      " 5   sqft_lot       4600 non-null   int64  \n",
      " 6   floors         4600 non-null   float64\n",
      " 7   waterfront     4600 non-null   int64  \n",
      " 8   view           4600 non-null   int64  \n",
      " 9   condition      4600 non-null   int64  \n",
      " 10  sqft_above     4600 non-null   int64  \n",
      " 11  sqft_basement  4600 non-null   int64  \n",
      " 12  yr_built       4600 non-null   int64  \n",
      " 13  yr_renovated   4600 non-null   int64  \n",
      " 14  street         4600 non-null   object \n",
      " 15  city           4600 non-null   object \n",
      " 16  statezip       4600 non-null   object \n",
      " 17  country        4600 non-null   object \n",
      "dtypes: float64(4), int64(9), object(5)\n",
      "memory usage: 647.0+ KB\n"
     ]
    }
   ],
   "source": [
    "# getting some information about the dataset\n",
    "dataset.info()"
   ]
  },
  {
   "cell_type": "code",
   "execution_count": 7,
   "metadata": {},
   "outputs": [],
   "source": [
    "dataset['yr_built']=dataset['yr_built'].astype(str)\n",
    "dataset['yr_renovated']=dataset['yr_renovated'].astype(str)\n",
    "dataset['bedrooms']=dataset['bedrooms'].astype(str)\n",
    "dataset['bathrooms']=dataset['bathrooms'].astype(str)\n",
    "dataset['floors']=dataset['floors'].astype(str)\n",
    "dataset['waterfront']=dataset['waterfront'].astype(str)\n",
    "dataset['view']=dataset['view'].astype(str)"
   ]
  },
  {
   "cell_type": "code",
   "execution_count": 8,
   "metadata": {},
   "outputs": [
    {
     "data": {
      "text/plain": [
       "date              object\n",
       "price            float64\n",
       "bedrooms          object\n",
       "bathrooms         object\n",
       "sqft_living        int64\n",
       "sqft_lot           int64\n",
       "floors            object\n",
       "waterfront        object\n",
       "view              object\n",
       "condition          int64\n",
       "sqft_above         int64\n",
       "sqft_basement      int64\n",
       "yr_built          object\n",
       "yr_renovated      object\n",
       "street            object\n",
       "city              object\n",
       "statezip          object\n",
       "country           object\n",
       "dtype: object"
      ]
     },
     "execution_count": 8,
     "metadata": {},
     "output_type": "execute_result"
    }
   ],
   "source": [
    "dataset.dtypes"
   ]
  },
  {
   "cell_type": "code",
   "execution_count": 9,
   "metadata": {
    "colab": {
     "base_uri": "https://localhost:8080/"
    },
    "id": "wZSbDnmM1O_V",
    "outputId": "c23e99c7-0da0-48a6-b483-2e858977141e"
   },
   "outputs": [
    {
     "data": {
      "text/plain": [
       "date             0\n",
       "price            0\n",
       "bedrooms         0\n",
       "bathrooms        0\n",
       "sqft_living      0\n",
       "sqft_lot         0\n",
       "floors           0\n",
       "waterfront       0\n",
       "view             0\n",
       "condition        0\n",
       "sqft_above       0\n",
       "sqft_basement    0\n",
       "yr_built         0\n",
       "yr_renovated     0\n",
       "street           0\n",
       "city             0\n",
       "statezip         0\n",
       "country          0\n",
       "dtype: int64"
      ]
     },
     "execution_count": 9,
     "metadata": {},
     "output_type": "execute_result"
    }
   ],
   "source": [
    "# checking the number of missing values\n",
    "dataset.isnull().sum()"
   ]
  },
  {
   "cell_type": "code",
   "execution_count": 10,
   "metadata": {},
   "outputs": [
    {
     "name": "stdout",
     "output_type": "stream",
     "text": [
      "2014-06-23 00:00:00    142\n",
      "2014-06-25 00:00:00    131\n",
      "2014-06-26 00:00:00    131\n",
      "2014-07-08 00:00:00    127\n",
      "2014-07-09 00:00:00    121\n",
      "                      ... \n",
      "2014-06-07 00:00:00      4\n",
      "2014-07-06 00:00:00      3\n",
      "2014-07-04 00:00:00      2\n",
      "2014-05-11 00:00:00      2\n",
      "2014-05-17 00:00:00      1\n",
      "Name: date, Length: 70, dtype: int64\n",
      "0.0          49\n",
      "300000.0     42\n",
      "400000.0     31\n",
      "440000.0     29\n",
      "450000.0     29\n",
      "             ..\n",
      "684680.0      1\n",
      "609900.0      1\n",
      "1635000.0     1\n",
      "1339000.0     1\n",
      "220600.0      1\n",
      "Name: price, Length: 1741, dtype: int64\n",
      "3.0    2032\n",
      "4.0    1531\n",
      "2.0     566\n",
      "5.0     353\n",
      "6.0      61\n",
      "1.0      38\n",
      "7.0      14\n",
      "8.0       2\n",
      "0.0       2\n",
      "9.0       1\n",
      "Name: bedrooms, dtype: int64\n",
      "2.5     1189\n",
      "1.0      743\n",
      "1.75     629\n",
      "2.0      427\n",
      "2.25     419\n",
      "1.5      291\n",
      "2.75     276\n",
      "3.0      167\n",
      "3.5      162\n",
      "3.25     136\n",
      "3.75      37\n",
      "4.5       29\n",
      "4.25      23\n",
      "4.0       23\n",
      "0.75      17\n",
      "4.75       7\n",
      "5.0        6\n",
      "5.25       4\n",
      "5.5        4\n",
      "1.25       3\n",
      "6.25       2\n",
      "0.0        2\n",
      "8.0        1\n",
      "5.75       1\n",
      "6.5        1\n",
      "6.75       1\n",
      "Name: bathrooms, dtype: int64\n",
      "1940     32\n",
      "1720     32\n",
      "1660     31\n",
      "1840     31\n",
      "2000     30\n",
      "         ..\n",
      "2732      1\n",
      "2009      1\n",
      "1295      1\n",
      "10040     1\n",
      "2538      1\n",
      "Name: sqft_living, Length: 566, dtype: int64\n",
      "5000     80\n",
      "6000     65\n",
      "4000     54\n",
      "7200     50\n",
      "4800     29\n",
      "         ..\n",
      "3568      1\n",
      "17935     1\n",
      "18897     1\n",
      "4674      1\n",
      "8102      1\n",
      "Name: sqft_lot, Length: 3113, dtype: int64\n",
      "1.0    2174\n",
      "2.0    1811\n",
      "1.5     444\n",
      "3.0     128\n",
      "2.5      41\n",
      "3.5       2\n",
      "Name: floors, dtype: int64\n",
      "0    4567\n",
      "1      33\n",
      "Name: waterfront, dtype: int64\n",
      "0    4140\n",
      "2     205\n",
      "3     116\n",
      "4      70\n",
      "1      69\n",
      "Name: view, dtype: int64\n",
      "3    2875\n",
      "4    1252\n",
      "5     435\n",
      "2      32\n",
      "1       6\n",
      "Name: condition, dtype: int64\n",
      "1200    47\n",
      "1010    47\n",
      "1300    45\n",
      "1140    44\n",
      "1320    43\n",
      "        ..\n",
      "2481     1\n",
      "560      1\n",
      "2437     1\n",
      "3590     1\n",
      "2538     1\n",
      "Name: sqft_above, Length: 511, dtype: int64\n",
      "0       2745\n",
      "500       53\n",
      "600       45\n",
      "800       43\n",
      "900       41\n",
      "        ... \n",
      "2300       1\n",
      "265        1\n",
      "1610       1\n",
      "862        1\n",
      "1640       1\n",
      "Name: sqft_basement, Length: 207, dtype: int64\n",
      "2006    111\n",
      "2005    104\n",
      "2007     93\n",
      "2004     92\n",
      "1978     90\n",
      "       ... \n",
      "1915      6\n",
      "1935      6\n",
      "1933      5\n",
      "1934      4\n",
      "1936      3\n",
      "Name: yr_built, Length: 115, dtype: int64\n",
      "0       2735\n",
      "2000     170\n",
      "2003     151\n",
      "2009     109\n",
      "2001     109\n",
      "2005      95\n",
      "2004      77\n",
      "2014      72\n",
      "2006      68\n",
      "2013      61\n",
      "1923      57\n",
      "1994      57\n",
      "1989      55\n",
      "2011      54\n",
      "2012      45\n",
      "2008      45\n",
      "1988      43\n",
      "1999      41\n",
      "2002      41\n",
      "1983      41\n",
      "1998      40\n",
      "1993      39\n",
      "1912      33\n",
      "1979      32\n",
      "1992      32\n",
      "2010      30\n",
      "1985      29\n",
      "1997      28\n",
      "1996      22\n",
      "1982      22\n",
      "1972      17\n",
      "1990      16\n",
      "1956      15\n",
      "1963      12\n",
      "1969      11\n",
      "1984      10\n",
      "1970       9\n",
      "1968       9\n",
      "1954       8\n",
      "1945       7\n",
      "2007       7\n",
      "1974       6\n",
      "1934       6\n",
      "1971       5\n",
      "1958       5\n",
      "1986       5\n",
      "1978       3\n",
      "1980       2\n",
      "1995       2\n",
      "1955       2\n",
      "1977       1\n",
      "1913       1\n",
      "1991       1\n",
      "1948       1\n",
      "1966       1\n",
      "1960       1\n",
      "1987       1\n",
      "1953       1\n",
      "1981       1\n",
      "1975       1\n",
      "Name: yr_renovated, dtype: int64\n",
      "2520 Mulberry Walk NE     4\n",
      "2500 Mulberry Walk NE     3\n",
      "9413 34th Ave SW          2\n",
      "6008 8th Ave NE           2\n",
      "11034 NE 26th Pl          2\n",
      "                         ..\n",
      "1404 Broadmoor Dr E       1\n",
      "3249 E Ames Lake Dr NE    1\n",
      "6032 35th Ave NE          1\n",
      "1006 NE Ravenna Blvd      1\n",
      "18717 SE 258th St         1\n",
      "Name: street, Length: 4525, dtype: int64\n",
      "Seattle                1573\n",
      "Renton                  293\n",
      "Bellevue                286\n",
      "Redmond                 235\n",
      "Issaquah                187\n",
      "Kirkland                187\n",
      "Kent                    185\n",
      "Auburn                  176\n",
      "Sammamish               175\n",
      "Federal Way             148\n",
      "Shoreline               123\n",
      "Woodinville             115\n",
      "Maple Valley             96\n",
      "Mercer Island            86\n",
      "Burien                   74\n",
      "Snoqualmie               71\n",
      "Kenmore                  66\n",
      "Des Moines               58\n",
      "North Bend               50\n",
      "Covington                43\n",
      "Duvall                   42\n",
      "Lake Forest Park         36\n",
      "Bothell                  33\n",
      "Newcastle                33\n",
      "SeaTac                   29\n",
      "Tukwila                  29\n",
      "Vashon                   29\n",
      "Enumclaw                 28\n",
      "Carnation                22\n",
      "Normandy Park            18\n",
      "Clyde Hill               11\n",
      "Medina                   11\n",
      "Fall City                11\n",
      "Black Diamond             9\n",
      "Ravensdale                7\n",
      "Pacific                   6\n",
      "Algona                    5\n",
      "Yarrow Point              4\n",
      "Skykomish                 3\n",
      "Preston                   2\n",
      "Milton                    2\n",
      "Inglewood-Finn Hill       1\n",
      "Snoqualmie Pass           1\n",
      "Beaux Arts Village        1\n",
      "Name: city, dtype: int64\n",
      "WA 98103    148\n",
      "WA 98052    135\n",
      "WA 98117    132\n",
      "WA 98115    130\n",
      "WA 98006    110\n",
      "           ... \n",
      "WA 98047      6\n",
      "WA 98288      3\n",
      "WA 98050      2\n",
      "WA 98354      2\n",
      "WA 98068      1\n",
      "Name: statezip, Length: 77, dtype: int64\n",
      "USA    4600\n",
      "Name: country, dtype: int64\n"
     ]
    }
   ],
   "source": [
    "for i in dataset:\n",
    "    print(dataset[i].value_counts())"
   ]
  },
  {
   "cell_type": "markdown",
   "metadata": {
    "id": "VxzeLJqT2k1t"
   },
   "source": [
    "#### Encoding the Categorical Data"
   ]
  },
  {
   "cell_type": "code",
   "execution_count": 11,
   "metadata": {
    "id": "fNbLsAdU2LAA"
   },
   "outputs": [
    {
     "data": {
      "text/html": [
       "<div>\n",
       "<style scoped>\n",
       "    .dataframe tbody tr th:only-of-type {\n",
       "        vertical-align: middle;\n",
       "    }\n",
       "\n",
       "    .dataframe tbody tr th {\n",
       "        vertical-align: top;\n",
       "    }\n",
       "\n",
       "    .dataframe thead th {\n",
       "        text-align: right;\n",
       "    }\n",
       "</style>\n",
       "<table border=\"1\" class=\"dataframe\">\n",
       "  <thead>\n",
       "    <tr style=\"text-align: right;\">\n",
       "      <th></th>\n",
       "      <th>date</th>\n",
       "      <th>price</th>\n",
       "      <th>bedrooms</th>\n",
       "      <th>bathrooms</th>\n",
       "      <th>sqft_living</th>\n",
       "      <th>sqft_lot</th>\n",
       "      <th>floors</th>\n",
       "      <th>waterfront</th>\n",
       "      <th>view</th>\n",
       "      <th>condition</th>\n",
       "      <th>sqft_above</th>\n",
       "      <th>sqft_basement</th>\n",
       "      <th>yr_built</th>\n",
       "      <th>yr_renovated</th>\n",
       "      <th>street</th>\n",
       "      <th>city</th>\n",
       "      <th>statezip</th>\n",
       "      <th>country</th>\n",
       "    </tr>\n",
       "  </thead>\n",
       "  <tbody>\n",
       "    <tr>\n",
       "      <th>0</th>\n",
       "      <td>0</td>\n",
       "      <td>3.130000e+05</td>\n",
       "      <td>3</td>\n",
       "      <td>4</td>\n",
       "      <td>1340</td>\n",
       "      <td>7912</td>\n",
       "      <td>1</td>\n",
       "      <td>0</td>\n",
       "      <td>0</td>\n",
       "      <td>3</td>\n",
       "      <td>1340</td>\n",
       "      <td>0</td>\n",
       "      <td>55</td>\n",
       "      <td>50</td>\n",
       "      <td>1522</td>\n",
       "      <td>36</td>\n",
       "      <td>62</td>\n",
       "      <td>0</td>\n",
       "    </tr>\n",
       "    <tr>\n",
       "      <th>1</th>\n",
       "      <td>0</td>\n",
       "      <td>2.384000e+06</td>\n",
       "      <td>5</td>\n",
       "      <td>8</td>\n",
       "      <td>3650</td>\n",
       "      <td>9050</td>\n",
       "      <td>2</td>\n",
       "      <td>0</td>\n",
       "      <td>4</td>\n",
       "      <td>5</td>\n",
       "      <td>3370</td>\n",
       "      <td>280</td>\n",
       "      <td>21</td>\n",
       "      <td>0</td>\n",
       "      <td>3899</td>\n",
       "      <td>35</td>\n",
       "      <td>58</td>\n",
       "      <td>0</td>\n",
       "    </tr>\n",
       "    <tr>\n",
       "      <th>2</th>\n",
       "      <td>0</td>\n",
       "      <td>3.420000e+05</td>\n",
       "      <td>3</td>\n",
       "      <td>6</td>\n",
       "      <td>1930</td>\n",
       "      <td>11947</td>\n",
       "      <td>0</td>\n",
       "      <td>0</td>\n",
       "      <td>0</td>\n",
       "      <td>4</td>\n",
       "      <td>1930</td>\n",
       "      <td>0</td>\n",
       "      <td>66</td>\n",
       "      <td>0</td>\n",
       "      <td>2291</td>\n",
       "      <td>18</td>\n",
       "      <td>26</td>\n",
       "      <td>0</td>\n",
       "    </tr>\n",
       "    <tr>\n",
       "      <th>3</th>\n",
       "      <td>0</td>\n",
       "      <td>4.200000e+05</td>\n",
       "      <td>3</td>\n",
       "      <td>7</td>\n",
       "      <td>2000</td>\n",
       "      <td>8030</td>\n",
       "      <td>0</td>\n",
       "      <td>0</td>\n",
       "      <td>0</td>\n",
       "      <td>4</td>\n",
       "      <td>1000</td>\n",
       "      <td>1000</td>\n",
       "      <td>63</td>\n",
       "      <td>0</td>\n",
       "      <td>4263</td>\n",
       "      <td>3</td>\n",
       "      <td>7</td>\n",
       "      <td>0</td>\n",
       "    </tr>\n",
       "    <tr>\n",
       "      <th>4</th>\n",
       "      <td>0</td>\n",
       "      <td>5.500000e+05</td>\n",
       "      <td>4</td>\n",
       "      <td>8</td>\n",
       "      <td>1940</td>\n",
       "      <td>10500</td>\n",
       "      <td>0</td>\n",
       "      <td>0</td>\n",
       "      <td>0</td>\n",
       "      <td>4</td>\n",
       "      <td>1140</td>\n",
       "      <td>800</td>\n",
       "      <td>76</td>\n",
       "      <td>37</td>\n",
       "      <td>4352</td>\n",
       "      <td>31</td>\n",
       "      <td>31</td>\n",
       "      <td>0</td>\n",
       "    </tr>\n",
       "    <tr>\n",
       "      <th>...</th>\n",
       "      <td>...</td>\n",
       "      <td>...</td>\n",
       "      <td>...</td>\n",
       "      <td>...</td>\n",
       "      <td>...</td>\n",
       "      <td>...</td>\n",
       "      <td>...</td>\n",
       "      <td>...</td>\n",
       "      <td>...</td>\n",
       "      <td>...</td>\n",
       "      <td>...</td>\n",
       "      <td>...</td>\n",
       "      <td>...</td>\n",
       "      <td>...</td>\n",
       "      <td>...</td>\n",
       "      <td>...</td>\n",
       "      <td>...</td>\n",
       "      <td>...</td>\n",
       "    </tr>\n",
       "    <tr>\n",
       "      <th>4595</th>\n",
       "      <td>68</td>\n",
       "      <td>3.081667e+05</td>\n",
       "      <td>3</td>\n",
       "      <td>5</td>\n",
       "      <td>1510</td>\n",
       "      <td>6360</td>\n",
       "      <td>0</td>\n",
       "      <td>0</td>\n",
       "      <td>0</td>\n",
       "      <td>4</td>\n",
       "      <td>1510</td>\n",
       "      <td>0</td>\n",
       "      <td>54</td>\n",
       "      <td>24</td>\n",
       "      <td>3447</td>\n",
       "      <td>35</td>\n",
       "      <td>62</td>\n",
       "      <td>0</td>\n",
       "    </tr>\n",
       "    <tr>\n",
       "      <th>4596</th>\n",
       "      <td>68</td>\n",
       "      <td>5.343333e+05</td>\n",
       "      <td>3</td>\n",
       "      <td>8</td>\n",
       "      <td>1460</td>\n",
       "      <td>7573</td>\n",
       "      <td>2</td>\n",
       "      <td>0</td>\n",
       "      <td>0</td>\n",
       "      <td>3</td>\n",
       "      <td>1460</td>\n",
       "      <td>0</td>\n",
       "      <td>83</td>\n",
       "      <td>54</td>\n",
       "      <td>960</td>\n",
       "      <td>3</td>\n",
       "      <td>6</td>\n",
       "      <td>0</td>\n",
       "    </tr>\n",
       "    <tr>\n",
       "      <th>4597</th>\n",
       "      <td>68</td>\n",
       "      <td>4.169042e+05</td>\n",
       "      <td>3</td>\n",
       "      <td>8</td>\n",
       "      <td>3010</td>\n",
       "      <td>7014</td>\n",
       "      <td>2</td>\n",
       "      <td>0</td>\n",
       "      <td>0</td>\n",
       "      <td>3</td>\n",
       "      <td>3010</td>\n",
       "      <td>0</td>\n",
       "      <td>109</td>\n",
       "      <td>0</td>\n",
       "      <td>4033</td>\n",
       "      <td>32</td>\n",
       "      <td>37</td>\n",
       "      <td>0</td>\n",
       "    </tr>\n",
       "    <tr>\n",
       "      <th>4598</th>\n",
       "      <td>69</td>\n",
       "      <td>2.034000e+05</td>\n",
       "      <td>4</td>\n",
       "      <td>6</td>\n",
       "      <td>2090</td>\n",
       "      <td>6630</td>\n",
       "      <td>0</td>\n",
       "      <td>0</td>\n",
       "      <td>0</td>\n",
       "      <td>3</td>\n",
       "      <td>1070</td>\n",
       "      <td>1020</td>\n",
       "      <td>74</td>\n",
       "      <td>0</td>\n",
       "      <td>3498</td>\n",
       "      <td>35</td>\n",
       "      <td>71</td>\n",
       "      <td>0</td>\n",
       "    </tr>\n",
       "    <tr>\n",
       "      <th>4599</th>\n",
       "      <td>69</td>\n",
       "      <td>2.206000e+05</td>\n",
       "      <td>3</td>\n",
       "      <td>8</td>\n",
       "      <td>1490</td>\n",
       "      <td>8102</td>\n",
       "      <td>2</td>\n",
       "      <td>0</td>\n",
       "      <td>0</td>\n",
       "      <td>4</td>\n",
       "      <td>1490</td>\n",
       "      <td>0</td>\n",
       "      <td>90</td>\n",
       "      <td>0</td>\n",
       "      <td>1514</td>\n",
       "      <td>9</td>\n",
       "      <td>26</td>\n",
       "      <td>0</td>\n",
       "    </tr>\n",
       "  </tbody>\n",
       "</table>\n",
       "<p>4600 rows × 18 columns</p>\n",
       "</div>"
      ],
      "text/plain": [
       "      date         price  bedrooms  bathrooms  sqft_living  sqft_lot  floors  \\\n",
       "0        0  3.130000e+05         3          4         1340      7912       1   \n",
       "1        0  2.384000e+06         5          8         3650      9050       2   \n",
       "2        0  3.420000e+05         3          6         1930     11947       0   \n",
       "3        0  4.200000e+05         3          7         2000      8030       0   \n",
       "4        0  5.500000e+05         4          8         1940     10500       0   \n",
       "...    ...           ...       ...        ...          ...       ...     ...   \n",
       "4595    68  3.081667e+05         3          5         1510      6360       0   \n",
       "4596    68  5.343333e+05         3          8         1460      7573       2   \n",
       "4597    68  4.169042e+05         3          8         3010      7014       2   \n",
       "4598    69  2.034000e+05         4          6         2090      6630       0   \n",
       "4599    69  2.206000e+05         3          8         1490      8102       2   \n",
       "\n",
       "      waterfront  view  condition  sqft_above  sqft_basement  yr_built  \\\n",
       "0              0     0          3        1340              0        55   \n",
       "1              0     4          5        3370            280        21   \n",
       "2              0     0          4        1930              0        66   \n",
       "3              0     0          4        1000           1000        63   \n",
       "4              0     0          4        1140            800        76   \n",
       "...          ...   ...        ...         ...            ...       ...   \n",
       "4595           0     0          4        1510              0        54   \n",
       "4596           0     0          3        1460              0        83   \n",
       "4597           0     0          3        3010              0       109   \n",
       "4598           0     0          3        1070           1020        74   \n",
       "4599           0     0          4        1490              0        90   \n",
       "\n",
       "      yr_renovated  street  city  statezip  country  \n",
       "0               50    1522    36        62        0  \n",
       "1                0    3899    35        58        0  \n",
       "2                0    2291    18        26        0  \n",
       "3                0    4263     3         7        0  \n",
       "4               37    4352    31        31        0  \n",
       "...            ...     ...   ...       ...      ...  \n",
       "4595            24    3447    35        62        0  \n",
       "4596            54     960     3         6        0  \n",
       "4597             0    4033    32        37        0  \n",
       "4598             0    3498    35        71        0  \n",
       "4599             0    1514     9        26        0  \n",
       "\n",
       "[4600 rows x 18 columns]"
      ]
     },
     "execution_count": 11,
     "metadata": {},
     "output_type": "execute_result"
    }
   ],
   "source": [
    "from sklearn.preprocessing import LabelEncoder\n",
    "le=LabelEncoder()\n",
    "def encoding_dataframe(df):\n",
    "    for i in df.columns:\n",
    "        if df[i].dtypes==\"object\":\n",
    "            df[i]=le.fit_transform(df[i])\n",
    "    return df\n",
    "dataset=encoding_dataframe(dataset)\n",
    "dataset"
   ]
  },
  {
   "cell_type": "code",
   "execution_count": 12,
   "metadata": {
    "colab": {
     "base_uri": "https://localhost:8080/",
     "height": 198
    },
    "id": "dR-puwbW3UZc",
    "outputId": "2bbfe06f-30ce-45ae-9ef1-379c72d68b9a"
   },
   "outputs": [
    {
     "data": {
      "text/html": [
       "<div>\n",
       "<style scoped>\n",
       "    .dataframe tbody tr th:only-of-type {\n",
       "        vertical-align: middle;\n",
       "    }\n",
       "\n",
       "    .dataframe tbody tr th {\n",
       "        vertical-align: top;\n",
       "    }\n",
       "\n",
       "    .dataframe thead th {\n",
       "        text-align: right;\n",
       "    }\n",
       "</style>\n",
       "<table border=\"1\" class=\"dataframe\">\n",
       "  <thead>\n",
       "    <tr style=\"text-align: right;\">\n",
       "      <th></th>\n",
       "      <th>date</th>\n",
       "      <th>price</th>\n",
       "      <th>bedrooms</th>\n",
       "      <th>bathrooms</th>\n",
       "      <th>sqft_living</th>\n",
       "      <th>sqft_lot</th>\n",
       "      <th>floors</th>\n",
       "      <th>waterfront</th>\n",
       "      <th>view</th>\n",
       "      <th>condition</th>\n",
       "      <th>sqft_above</th>\n",
       "      <th>sqft_basement</th>\n",
       "      <th>yr_built</th>\n",
       "      <th>yr_renovated</th>\n",
       "      <th>street</th>\n",
       "      <th>city</th>\n",
       "      <th>statezip</th>\n",
       "      <th>country</th>\n",
       "    </tr>\n",
       "  </thead>\n",
       "  <tbody>\n",
       "    <tr>\n",
       "      <th>0</th>\n",
       "      <td>0</td>\n",
       "      <td>313000.0</td>\n",
       "      <td>3</td>\n",
       "      <td>4</td>\n",
       "      <td>1340</td>\n",
       "      <td>7912</td>\n",
       "      <td>1</td>\n",
       "      <td>0</td>\n",
       "      <td>0</td>\n",
       "      <td>3</td>\n",
       "      <td>1340</td>\n",
       "      <td>0</td>\n",
       "      <td>55</td>\n",
       "      <td>50</td>\n",
       "      <td>1522</td>\n",
       "      <td>36</td>\n",
       "      <td>62</td>\n",
       "      <td>0</td>\n",
       "    </tr>\n",
       "    <tr>\n",
       "      <th>1</th>\n",
       "      <td>0</td>\n",
       "      <td>2384000.0</td>\n",
       "      <td>5</td>\n",
       "      <td>8</td>\n",
       "      <td>3650</td>\n",
       "      <td>9050</td>\n",
       "      <td>2</td>\n",
       "      <td>0</td>\n",
       "      <td>4</td>\n",
       "      <td>5</td>\n",
       "      <td>3370</td>\n",
       "      <td>280</td>\n",
       "      <td>21</td>\n",
       "      <td>0</td>\n",
       "      <td>3899</td>\n",
       "      <td>35</td>\n",
       "      <td>58</td>\n",
       "      <td>0</td>\n",
       "    </tr>\n",
       "    <tr>\n",
       "      <th>2</th>\n",
       "      <td>0</td>\n",
       "      <td>342000.0</td>\n",
       "      <td>3</td>\n",
       "      <td>6</td>\n",
       "      <td>1930</td>\n",
       "      <td>11947</td>\n",
       "      <td>0</td>\n",
       "      <td>0</td>\n",
       "      <td>0</td>\n",
       "      <td>4</td>\n",
       "      <td>1930</td>\n",
       "      <td>0</td>\n",
       "      <td>66</td>\n",
       "      <td>0</td>\n",
       "      <td>2291</td>\n",
       "      <td>18</td>\n",
       "      <td>26</td>\n",
       "      <td>0</td>\n",
       "    </tr>\n",
       "    <tr>\n",
       "      <th>3</th>\n",
       "      <td>0</td>\n",
       "      <td>420000.0</td>\n",
       "      <td>3</td>\n",
       "      <td>7</td>\n",
       "      <td>2000</td>\n",
       "      <td>8030</td>\n",
       "      <td>0</td>\n",
       "      <td>0</td>\n",
       "      <td>0</td>\n",
       "      <td>4</td>\n",
       "      <td>1000</td>\n",
       "      <td>1000</td>\n",
       "      <td>63</td>\n",
       "      <td>0</td>\n",
       "      <td>4263</td>\n",
       "      <td>3</td>\n",
       "      <td>7</td>\n",
       "      <td>0</td>\n",
       "    </tr>\n",
       "    <tr>\n",
       "      <th>4</th>\n",
       "      <td>0</td>\n",
       "      <td>550000.0</td>\n",
       "      <td>4</td>\n",
       "      <td>8</td>\n",
       "      <td>1940</td>\n",
       "      <td>10500</td>\n",
       "      <td>0</td>\n",
       "      <td>0</td>\n",
       "      <td>0</td>\n",
       "      <td>4</td>\n",
       "      <td>1140</td>\n",
       "      <td>800</td>\n",
       "      <td>76</td>\n",
       "      <td>37</td>\n",
       "      <td>4352</td>\n",
       "      <td>31</td>\n",
       "      <td>31</td>\n",
       "      <td>0</td>\n",
       "    </tr>\n",
       "  </tbody>\n",
       "</table>\n",
       "</div>"
      ],
      "text/plain": [
       "   date      price  bedrooms  bathrooms  sqft_living  sqft_lot  floors  \\\n",
       "0     0   313000.0         3          4         1340      7912       1   \n",
       "1     0  2384000.0         5          8         3650      9050       2   \n",
       "2     0   342000.0         3          6         1930     11947       0   \n",
       "3     0   420000.0         3          7         2000      8030       0   \n",
       "4     0   550000.0         4          8         1940     10500       0   \n",
       "\n",
       "   waterfront  view  condition  sqft_above  sqft_basement  yr_built  \\\n",
       "0           0     0          3        1340              0        55   \n",
       "1           0     4          5        3370            280        21   \n",
       "2           0     0          4        1930              0        66   \n",
       "3           0     0          4        1000           1000        63   \n",
       "4           0     0          4        1140            800        76   \n",
       "\n",
       "   yr_renovated  street  city  statezip  country  \n",
       "0            50    1522    36        62        0  \n",
       "1             0    3899    35        58        0  \n",
       "2             0    2291    18        26        0  \n",
       "3             0    4263     3         7        0  \n",
       "4            37    4352    31        31        0  "
      ]
     },
     "execution_count": 12,
     "metadata": {},
     "output_type": "execute_result"
    }
   ],
   "source": [
    "dataset.head()"
   ]
  },
  {
   "cell_type": "markdown",
   "metadata": {
    "id": "d2AVNy1h3kni"
   },
   "source": [
    "#### Splitting the data and Target"
   ]
  },
  {
   "cell_type": "code",
   "execution_count": 15,
   "metadata": {
    "id": "XHdzrIlV3baN"
   },
   "outputs": [],
   "source": [
    "X = dataset.drop(['date','price'],axis=1)\n",
    "Y = dataset['price']"
   ]
  },
  {
   "cell_type": "code",
   "execution_count": 63,
   "metadata": {
    "colab": {
     "base_uri": "https://localhost:8080/"
    },
    "id": "vJKZIXOI4ISG",
    "outputId": "98334eff-bd58-4e61-ca4e-d0c18e820163"
   },
   "outputs": [
    {
     "name": "stdout",
     "output_type": "stream",
     "text": [
      "      bedrooms  bathrooms  sqft_living  sqft_lot  floors  waterfront  view  \\\n",
      "0            3          4         1340      7912       1           0     0   \n",
      "1            5          8         3650      9050       2           0     4   \n",
      "2            3          6         1930     11947       0           0     0   \n",
      "3            3          7         2000      8030       0           0     0   \n",
      "4            4          8         1940     10500       0           0     0   \n",
      "...        ...        ...          ...       ...     ...         ...   ...   \n",
      "4595         3          5         1510      6360       0           0     0   \n",
      "4596         3          8         1460      7573       2           0     0   \n",
      "4597         3          8         3010      7014       2           0     0   \n",
      "4598         4          6         2090      6630       0           0     0   \n",
      "4599         3          8         1490      8102       2           0     0   \n",
      "\n",
      "      condition  sqft_above  sqft_basement  yr_built  yr_renovated  street  \\\n",
      "0             3        1340              0        55            50    1522   \n",
      "1             5        3370            280        21             0    3899   \n",
      "2             4        1930              0        66             0    2291   \n",
      "3             4        1000           1000        63             0    4263   \n",
      "4             4        1140            800        76            37    4352   \n",
      "...         ...         ...            ...       ...           ...     ...   \n",
      "4595          4        1510              0        54            24    3447   \n",
      "4596          3        1460              0        83            54     960   \n",
      "4597          3        3010              0       109             0    4033   \n",
      "4598          3        1070           1020        74             0    3498   \n",
      "4599          4        1490              0        90             0    1514   \n",
      "\n",
      "      city  statezip  country  \n",
      "0       36        62        0  \n",
      "1       35        58        0  \n",
      "2       18        26        0  \n",
      "3        3         7        0  \n",
      "4       31        31        0  \n",
      "...    ...       ...      ...  \n",
      "4595    35        62        0  \n",
      "4596     3         6        0  \n",
      "4597    32        37        0  \n",
      "4598    35        71        0  \n",
      "4599     9        26        0  \n",
      "\n",
      "[4600 rows x 16 columns]\n"
     ]
    }
   ],
   "source": [
    "print(X)\n"
   ]
  },
  {
   "cell_type": "code",
   "execution_count": 17,
   "metadata": {
    "colab": {
     "base_uri": "https://localhost:8080/"
    },
    "id": "U5LIqrS54N9W",
    "outputId": "90503ffa-259e-4a61-a5c0-63cf3b544ae1"
   },
   "outputs": [
    {
     "name": "stdout",
     "output_type": "stream",
     "text": [
      "0       3.130000e+05\n",
      "1       2.384000e+06\n",
      "2       3.420000e+05\n",
      "3       4.200000e+05\n",
      "4       5.500000e+05\n",
      "            ...     \n",
      "4595    3.081667e+05\n",
      "4596    5.343333e+05\n",
      "4597    4.169042e+05\n",
      "4598    2.034000e+05\n",
      "4599    2.206000e+05\n",
      "Name: price, Length: 4600, dtype: float64\n"
     ]
    }
   ],
   "source": [
    "print(Y)"
   ]
  },
  {
   "cell_type": "markdown",
   "metadata": {},
   "source": [
    "#### Splitting Training and Test data"
   ]
  },
  {
   "cell_type": "code",
   "execution_count": 18,
   "metadata": {},
   "outputs": [],
   "source": [
    "X_train, X_test, Y_train, Y_test = train_test_split(X, Y, test_size = 0.1, random_state=2)"
   ]
  },
  {
   "cell_type": "markdown",
   "metadata": {
    "id": "ocyzVLOc5K6D"
   },
   "source": [
    "#### Model Training"
   ]
  },
  {
   "cell_type": "markdown",
   "metadata": {
    "id": "CTzEpu6F5M5A"
   },
   "source": [
    "##### 1. Linear Regression"
   ]
  },
  {
   "cell_type": "code",
   "execution_count": 19,
   "metadata": {
    "id": "iLqTMiKd5IWH"
   },
   "outputs": [],
   "source": [
    "# loading the linear regression model\n",
    "lin_reg_model = LinearRegression()"
   ]
  },
  {
   "cell_type": "code",
   "execution_count": 20,
   "metadata": {
    "colab": {
     "base_uri": "https://localhost:8080/"
    },
    "id": "UWUCK59R5Z4X",
    "outputId": "c048a9d8-d932-4c0e-e504-8692234f399a"
   },
   "outputs": [
    {
     "data": {
      "text/plain": [
       "LinearRegression()"
      ]
     },
     "execution_count": 20,
     "metadata": {},
     "output_type": "execute_result"
    }
   ],
   "source": [
    "lin_reg_model.fit(X_train,Y_train)"
   ]
  },
  {
   "cell_type": "markdown",
   "metadata": {
    "id": "XB7PuuTM5nu_"
   },
   "source": [
    "#### Model Evaluation on Training Data"
   ]
  },
  {
   "cell_type": "code",
   "execution_count": 21,
   "metadata": {
    "id": "u8Wu4xMD5iW8"
   },
   "outputs": [],
   "source": [
    "# prediction on Training data\n",
    "training_data_prediction = lin_reg_model.predict(X_train)"
   ]
  },
  {
   "cell_type": "code",
   "execution_count": 22,
   "metadata": {
    "colab": {
     "base_uri": "https://localhost:8080/"
    },
    "id": "JdHP3HWx528E",
    "outputId": "e23daf2c-458e-48cf-989f-a7d06041dd6c"
   },
   "outputs": [
    {
     "name": "stdout",
     "output_type": "stream",
     "text": [
      "R squared Error :  0.20465773965236578\n"
     ]
    }
   ],
   "source": [
    "# R squared Error\n",
    "error_score = metrics.r2_score(Y_train, training_data_prediction)\n",
    "print(\"R squared Error : \", error_score)"
   ]
  },
  {
   "cell_type": "markdown",
   "metadata": {
    "id": "b3RfnkFq6jrH"
   },
   "source": [
    "#### Visualize the actual prices and Predicted prices based on Training Data."
   ]
  },
  {
   "cell_type": "code",
   "execution_count": 23,
   "metadata": {
    "colab": {
     "base_uri": "https://localhost:8080/",
     "height": 295
    },
    "id": "5jukF7Vc6P48",
    "outputId": "0f2f1c40-8bc8-45a9-baba-063f57f25255"
   },
   "outputs": [
    {
     "data": {
      "image/png": "[encoded data removed]",
      "text/plain": [
       "<Figure size 432x288 with 1 Axes>"
      ]
     },
     "metadata": {},
     "output_type": "display_data"
    }
   ],
   "source": [
    "plt.scatter(Y_train, training_data_prediction)\n",
    "plt.xlabel(\"Actual Price\")\n",
    "plt.ylabel(\"Predicted Price\")\n",
    "plt.title(\" Actual Prices vs Predicted Prices based on Training Data\")\n",
    "plt.show()"
   ]
  },
  {
   "cell_type": "markdown",
   "metadata": {},
   "source": [
    "#### Model Evaluation on Test Data"
   ]
  },
  {
   "cell_type": "code",
   "execution_count": 24,
   "metadata": {
    "id": "iJUq-DiM69fn"
   },
   "outputs": [],
   "source": [
    "# prediction on Training data\n",
    "test_data_prediction = lin_reg_model.predict(X_test)"
   ]
  },
  {
   "cell_type": "code",
   "execution_count": 25,
   "metadata": {
    "colab": {
     "base_uri": "https://localhost:8080/"
    },
    "id": "e9h4glEM7XJ1",
    "outputId": "d324a59e-2a15-425a-9782-27581d096953"
   },
   "outputs": [
    {
     "name": "stdout",
     "output_type": "stream",
     "text": [
      "R squared Error :  0.6027620872919218\n"
     ]
    }
   ],
   "source": [
    "# R squared Error\n",
    "er_scores=[]\n",
    "error_score = metrics.r2_score(Y_test, test_data_prediction)\n",
    "print(\"R squared Error : \", error_score)\n",
    "er_scores.append(f\"linear regression : {error_score}\")"
   ]
  },
  {
   "cell_type": "markdown",
   "metadata": {},
   "source": [
    "#### Visualize the actual prices and Predicted prices based on Test Data"
   ]
  },
  {
   "cell_type": "code",
   "execution_count": 26,
   "metadata": {
    "colab": {
     "base_uri": "https://localhost:8080/",
     "height": 295
    },
    "id": "0yP0uxcr7gUE",
    "outputId": "c9d00f7f-f3cd-48b5-bf7c-7f4cde9c8409"
   },
   "outputs": [
    {
     "data": {
      "image/png": "[encoded data removed]",
      "text/plain": [
       "<Figure size 432x288 with 1 Axes>"
      ]
     },
     "metadata": {},
     "output_type": "display_data"
    }
   ],
   "source": [
    "plt.scatter(Y_test, test_data_prediction)\n",
    "plt.xlabel(\"Actual Price\")\n",
    "plt.ylabel(\"Predicted Price\")\n",
    "plt.title(\" Actual Prices vs Predicted Prices\")\n",
    "plt.show()"
   ]
  },
  {
   "cell_type": "markdown",
   "metadata": {
    "id": "flNiLHUZ78Mb"
   },
   "source": [
    "##### 2. Lasso Regression"
   ]
  },
  {
   "cell_type": "code",
   "execution_count": 27,
   "metadata": {
    "id": "govWJZHc8H4J"
   },
   "outputs": [],
   "source": [
    "# loading the linear regression model\n",
    "lass_reg_model = Lasso()"
   ]
  },
  {
   "cell_type": "code",
   "execution_count": 28,
   "metadata": {
    "colab": {
     "base_uri": "https://localhost:8080/"
    },
    "id": "N0HnZA1x8H4s",
    "outputId": "0563b757-843e-4cff-b393-56ccf43418c3"
   },
   "outputs": [
    {
     "name": "stderr",
     "output_type": "stream",
     "text": [
      "C:\\Users\\Abc\\anaconda3\\lib\\site-packages\\sklearn\\linear_model\\_coordinate_descent.py:647: ConvergenceWarning: Objective did not converge. You might want to increase the number of iterations, check the scale of the features or consider increasing regularisation. Duality gap: 5.085e+14, tolerance: 1.406e+11\n",
      "  model = cd_fast.enet_coordinate_descent(\n"
     ]
    },
    {
     "data": {
      "text/plain": [
       "Lasso()"
      ]
     },
     "execution_count": 28,
     "metadata": {},
     "output_type": "execute_result"
    }
   ],
   "source": [
    "lass_reg_model.fit(X_train,Y_train)"
   ]
  },
  {
   "cell_type": "markdown",
   "metadata": {
    "id": "Lc9Fljj68H46"
   },
   "source": [
    "#### Model Evaluation on Training Data"
   ]
  },
  {
   "cell_type": "code",
   "execution_count": 29,
   "metadata": {
    "id": "mkcC344U8H48"
   },
   "outputs": [],
   "source": [
    "# prediction on Training data\n",
    "training_data_prediction = lass_reg_model.predict(X_train)"
   ]
  },
  {
   "cell_type": "code",
   "execution_count": 30,
   "metadata": {
    "colab": {
     "base_uri": "https://localhost:8080/"
    },
    "id": "D4HRAQMd8H4_",
    "outputId": "0c76d006-ee5c-49f4-c972-74457403537f"
   },
   "outputs": [
    {
     "name": "stdout",
     "output_type": "stream",
     "text": [
      "R squared Error :  0.20465773919054342\n"
     ]
    }
   ],
   "source": [
    "# R squared Error\n",
    "error_score = metrics.r2_score(Y_train, training_data_prediction)\n",
    "print(\"R squared Error : \", error_score)"
   ]
  },
  {
   "cell_type": "markdown",
   "metadata": {
    "id": "kRo68z988H5B"
   },
   "source": [
    "#### Visualize the actual prices and Predicted prices based on Training Data."
   ]
  },
  {
   "cell_type": "code",
   "execution_count": 31,
   "metadata": {
    "colab": {
     "base_uri": "https://localhost:8080/",
     "height": 295
    },
    "id": "kXjzFcgu8H5C",
    "outputId": "4be3ccde-18ef-41e1-905e-49c46a7001c2"
   },
   "outputs": [
    {
     "data": {
      "image/png": "[encoded data removed]",
      "text/plain": [
       "<Figure size 432x288 with 1 Axes>"
      ]
     },
     "metadata": {},
     "output_type": "display_data"
    }
   ],
   "source": [
    "plt.scatter(Y_train, training_data_prediction)\n",
    "plt.xlabel(\"Actual Price\")\n",
    "plt.ylabel(\"Predicted Price\")\n",
    "plt.title(\" Actual Prices vs Predicted Prices\")\n",
    "plt.show()"
   ]
  },
  {
   "cell_type": "markdown",
   "metadata": {},
   "source": [
    "#### Model Evaluation on Test Data"
   ]
  },
  {
   "cell_type": "code",
   "execution_count": 32,
   "metadata": {
    "id": "pHXUgmyt8H5E"
   },
   "outputs": [],
   "source": [
    "# prediction on Test data\n",
    "test_data_prediction = lass_reg_model.predict(X_test)"
   ]
  },
  {
   "cell_type": "code",
   "execution_count": 33,
   "metadata": {
    "colab": {
     "base_uri": "https://localhost:8080/"
    },
    "id": "ctVd_TB48H5E",
    "outputId": "36e3e0ba-ba3e-4e0a-a4a9-643cc9ab4c18"
   },
   "outputs": [
    {
     "name": "stdout",
     "output_type": "stream",
     "text": [
      "R squared Error :  0.6027529766366018\n"
     ]
    }
   ],
   "source": [
    "# R squared Error\n",
    "error_score = metrics.r2_score(Y_test, test_data_prediction)\n",
    "print(\"R squared Error : \", error_score)\n",
    "er_scores.append(f\"lasso regression : {error_score}\")"
   ]
  },
  {
   "cell_type": "markdown",
   "metadata": {},
   "source": [
    "#### Visualize the actual prices and Predicted prices based on Test Data"
   ]
  },
  {
   "cell_type": "code",
   "execution_count": 34,
   "metadata": {
    "colab": {
     "base_uri": "https://localhost:8080/",
     "height": 295
    },
    "id": "W_iX2Ctv8H5F",
    "outputId": "dbe14e77-7b98-4946-ec57-2b95035d6eab"
   },
   "outputs": [
    {
     "data": {
      "image/png": "[encoded data removed]",
      "text/plain": [
       "<Figure size 432x288 with 1 Axes>"
      ]
     },
     "metadata": {},
     "output_type": "display_data"
    }
   ],
   "source": [
    "plt.scatter(Y_test, test_data_prediction)\n",
    "plt.xlabel(\"Actual Price\")\n",
    "plt.ylabel(\"Predicted Price\")\n",
    "plt.title(\" Actual Prices vs Predicted Prices\")\n",
    "plt.show()"
   ]
  },
  {
   "cell_type": "markdown",
   "metadata": {},
   "source": [
    "##### 3. Decision Tree Regressor"
   ]
  },
  {
   "cell_type": "code",
   "execution_count": 35,
   "metadata": {},
   "outputs": [],
   "source": [
    "# Loading the Decision Tree Regressor model\n",
    "dtr = DecisionTreeRegressor()"
   ]
  },
  {
   "cell_type": "code",
   "execution_count": 36,
   "metadata": {},
   "outputs": [
    {
     "data": {
      "text/plain": [
       "DecisionTreeRegressor()"
      ]
     },
     "execution_count": 36,
     "metadata": {},
     "output_type": "execute_result"
    }
   ],
   "source": [
    "dtr.fit(X_train,Y_train)"
   ]
  },
  {
   "cell_type": "markdown",
   "metadata": {},
   "source": [
    "#### Model Evaluation on Training Data"
   ]
  },
  {
   "cell_type": "code",
   "execution_count": 37,
   "metadata": {},
   "outputs": [],
   "source": [
    "# prediction on Training data\n",
    "training_data_prediction = dtr.predict(X_train)"
   ]
  },
  {
   "cell_type": "code",
   "execution_count": 38,
   "metadata": {},
   "outputs": [
    {
     "name": "stdout",
     "output_type": "stream",
     "text": [
      "R squared Error :  0.9999986443782833\n"
     ]
    }
   ],
   "source": [
    "# R squared Error\n",
    "error_score = metrics.r2_score(Y_train, training_data_prediction)\n",
    "print(\"R squared Error : \", error_score)"
   ]
  },
  {
   "cell_type": "markdown",
   "metadata": {},
   "source": [
    "#### Visualize the actual prices and Predicted prices based on Training Data."
   ]
  },
  {
   "cell_type": "code",
   "execution_count": 39,
   "metadata": {},
   "outputs": [
    {
     "data": {
      "image/png": "[encoded data removed]",
      "text/plain": [
       "<Figure size 432x288 with 1 Axes>"
      ]
     },
     "metadata": {},
     "output_type": "display_data"
    }
   ],
   "source": [
    "plt.scatter(Y_train, training_data_prediction)\n",
    "plt.xlabel(\"Actual Price\")\n",
    "plt.ylabel(\"Predicted Price\")\n",
    "plt.title(\" Actual Prices vs Predicted Prices\")\n",
    "plt.show()"
   ]
  },
  {
   "cell_type": "markdown",
   "metadata": {},
   "source": [
    "#### Model Evaluation on Test Data"
   ]
  },
  {
   "cell_type": "code",
   "execution_count": 40,
   "metadata": {},
   "outputs": [],
   "source": [
    "# prediction on Test data\n",
    "test_data_prediction = dtr.predict(X_test)"
   ]
  },
  {
   "cell_type": "code",
   "execution_count": 41,
   "metadata": {},
   "outputs": [
    {
     "name": "stdout",
     "output_type": "stream",
     "text": [
      "R squared Error :  0.15896592641186702\n"
     ]
    }
   ],
   "source": [
    "# R squared Error\n",
    "error_score = metrics.r2_score(Y_test, test_data_prediction)\n",
    "print(\"R squared Error : \", error_score)\n",
    "er_scores.append(f\"Decision tree regressor : {error_score}\")"
   ]
  },
  {
   "cell_type": "markdown",
   "metadata": {},
   "source": [
    "#### Visualize the actual prices and Predicted prices based on Test Data"
   ]
  },
  {
   "cell_type": "code",
   "execution_count": 42,
   "metadata": {},
   "outputs": [
    {
     "data": {
      "image/png": "[encoded data removed]",
      "text/plain": [
       "<Figure size 432x288 with 1 Axes>"
      ]
     },
     "metadata": {},
     "output_type": "display_data"
    }
   ],
   "source": [
    "plt.scatter(Y_test, test_data_prediction)\n",
    "plt.xlabel(\"Actual Price\")\n",
    "plt.ylabel(\"Predicted Price\")\n",
    "plt.title(\" Actual Prices vs Predicted Prices\")\n",
    "plt.show()"
   ]
  },
  {
   "cell_type": "markdown",
   "metadata": {},
   "source": [
    "##### 4. Random forest regressor. "
   ]
  },
  {
   "cell_type": "code",
   "execution_count": 43,
   "metadata": {},
   "outputs": [],
   "source": [
    "# Loading the Random Forest Regressor model\n",
    "rf = RandomForestRegressor(n_estimators = 100, random_state = 20)"
   ]
  },
  {
   "cell_type": "code",
   "execution_count": 44,
   "metadata": {},
   "outputs": [
    {
     "data": {
      "text/plain": [
       "RandomForestRegressor(random_state=20)"
      ]
     },
     "execution_count": 44,
     "metadata": {},
     "output_type": "execute_result"
    }
   ],
   "source": [
    "rf.fit(X_train,Y_train)"
   ]
  },
  {
   "cell_type": "markdown",
   "metadata": {},
   "source": [
    "#### Model Evaluation on Training Data"
   ]
  },
  {
   "cell_type": "code",
   "execution_count": 45,
   "metadata": {},
   "outputs": [],
   "source": [
    "# prediction on Training data\n",
    "training_data_prediction = rf.predict(X_train)"
   ]
  },
  {
   "cell_type": "code",
   "execution_count": 46,
   "metadata": {},
   "outputs": [
    {
     "name": "stdout",
     "output_type": "stream",
     "text": [
      "R squared Error :  0.9048631580813744\n"
     ]
    }
   ],
   "source": [
    "# R squared Error\n",
    "error_score = metrics.r2_score(Y_train, training_data_prediction)\n",
    "print(\"R squared Error : \", error_score)"
   ]
  },
  {
   "cell_type": "markdown",
   "metadata": {},
   "source": [
    "#### Visualize the actual prices and Predicted prices based on Training Data."
   ]
  },
  {
   "cell_type": "code",
   "execution_count": 47,
   "metadata": {},
   "outputs": [
    {
     "data": {
      "image/png": "[encoded data removed]",
      "text/plain": [
       "<Figure size 432x288 with 1 Axes>"
      ]
     },
     "metadata": {},
     "output_type": "display_data"
    }
   ],
   "source": [
    "plt.scatter(Y_train, training_data_prediction)\n",
    "plt.xlabel(\"Actual Price\")\n",
    "plt.ylabel(\"Predicted Price\")\n",
    "plt.title(\" Actual Prices vs Predicted Prices\")\n",
    "plt.show()"
   ]
  },
  {
   "cell_type": "markdown",
   "metadata": {},
   "source": [
    "#### Model Evaluation on Test Data"
   ]
  },
  {
   "cell_type": "code",
   "execution_count": 48,
   "metadata": {},
   "outputs": [],
   "source": [
    "# prediction on Test data\n",
    "test_data_prediction = rf.predict(X_test)\n"
   ]
  },
  {
   "cell_type": "code",
   "execution_count": 49,
   "metadata": {},
   "outputs": [
    {
     "name": "stdout",
     "output_type": "stream",
     "text": [
      "R squared Error :  0.6577850753099831\n"
     ]
    }
   ],
   "source": [
    "# R squared Error\n",
    "error_score = metrics.r2_score(Y_test, test_data_prediction)\n",
    "print(\"R squared Error : \", error_score)\n",
    "er_scores.append(f\"Random forest : {error_score}\")"
   ]
  },
  {
   "cell_type": "markdown",
   "metadata": {},
   "source": [
    "#### Visualize the actual prices and Predicted prices based on Test Data."
   ]
  },
  {
   "cell_type": "code",
   "execution_count": 50,
   "metadata": {},
   "outputs": [
    {
     "data": {
      "image/png": "[encoded data removed]",
      "text/plain": [
       "<Figure size 432x288 with 1 Axes>"
      ]
     },
     "metadata": {},
     "output_type": "display_data"
    }
   ],
   "source": [
    "plt.scatter(Y_test, test_data_prediction)\n",
    "plt.xlabel(\"Actual Price\")\n",
    "plt.ylabel(\"Predicted Price\")\n",
    "plt.title(\" Actual Prices vs Predicted Prices\")\n",
    "plt.show()"
   ]
  },
  {
   "cell_type": "markdown",
   "metadata": {},
   "source": [
    "##### 5. Ridge regressor"
   ]
  },
  {
   "cell_type": "code",
   "execution_count": 51,
   "metadata": {},
   "outputs": [
    {
     "data": {
      "text/plain": [
       "RandomizedSearchCV(estimator=Ridge(),\n",
       "                   param_distributions={'alpha': array([1.00000000e-03, 2.89426612e-03, 8.37677640e-03, 2.42446202e-02,\n",
       "       7.01703829e-02, 2.03091762e-01, 5.87801607e-01, 1.70125428e+00,\n",
       "       4.92388263e+00, 1.42510267e+01, 4.12462638e+01, 1.19377664e+02,\n",
       "       3.45510729e+02, 1.00000000e+03])})"
      ]
     },
     "execution_count": 51,
     "metadata": {},
     "output_type": "execute_result"
    }
   ],
   "source": [
    "from sklearn.linear_model import Ridge\n",
    "from sklearn.model_selection import RandomizedSearchCV\n",
    "import numpy as np\n",
    "\n",
    "# Creating Ridge model object\n",
    "rg = Ridge()\n",
    "# range of alpha \n",
    "alpha = np.logspace(-3,3,num=14)\n",
    "\n",
    "# Creating RandomizedSearchCV to find the best estimator of hyperparameter\n",
    "rg_rs = RandomizedSearchCV(estimator = rg, param_distributions = dict(alpha=alpha))\n",
    "rg_rs.fit(X_train,Y_train)"
   ]
  },
  {
   "cell_type": "markdown",
   "metadata": {},
   "source": [
    "#### Model Evaluation on Training Data"
   ]
  },
  {
   "cell_type": "code",
   "execution_count": 52,
   "metadata": {},
   "outputs": [],
   "source": [
    "# prediction on Training data\n",
    "training_data_prediction = rg_rs.predict(X_train)"
   ]
  },
  {
   "cell_type": "code",
   "execution_count": 53,
   "metadata": {},
   "outputs": [
    {
     "name": "stdout",
     "output_type": "stream",
     "text": [
      "R squared Error :  0.2046200379895794\n"
     ]
    }
   ],
   "source": [
    "# R squared Error\n",
    "error_score = metrics.r2_score(Y_train, training_data_prediction)\n",
    "print(\"R squared Error : \", error_score)"
   ]
  },
  {
   "cell_type": "markdown",
   "metadata": {},
   "source": [
    "#### Visualize the actual prices and Predicted prices based on Training Data."
   ]
  },
  {
   "cell_type": "code",
   "execution_count": 54,
   "metadata": {},
   "outputs": [
    {
     "data": {
      "image/png": "[encoded data removed]",
      "text/plain": [
       "<Figure size 432x288 with 1 Axes>"
      ]
     },
     "metadata": {},
     "output_type": "display_data"
    }
   ],
   "source": [
    "plt.scatter(Y_train, training_data_prediction)\n",
    "plt.xlabel(\"Actual Price\")\n",
    "plt.ylabel(\"Predicted Price\")\n",
    "plt.title(\" Actual Prices vs Predicted Prices\")\n",
    "plt.show()"
   ]
  },
  {
   "cell_type": "markdown",
   "metadata": {},
   "source": [
    "#### Model Evaluation based on Test Data"
   ]
  },
  {
   "cell_type": "code",
   "execution_count": 55,
   "metadata": {},
   "outputs": [],
   "source": [
    "# prediction on Test data\n",
    "test_data_prediction = rg_rs.predict(X_test)"
   ]
  },
  {
   "cell_type": "code",
   "execution_count": 56,
   "metadata": {},
   "outputs": [
    {
     "name": "stdout",
     "output_type": "stream",
     "text": [
      "R squared Error :  0.5997520675043784\n"
     ]
    }
   ],
   "source": [
    "# R squared Error\n",
    "error_score = metrics.r2_score(Y_test, test_data_prediction)\n",
    "print(\"R squared Error : \", error_score)\n",
    "er_scores.append(f\"Ridge regressor : {error_score}\")"
   ]
  },
  {
   "cell_type": "markdown",
   "metadata": {},
   "source": [
    "#### Visualize the actual prices and Predicted prices based on Test Data."
   ]
  },
  {
   "cell_type": "code",
   "execution_count": 57,
   "metadata": {},
   "outputs": [
    {
     "data": {
      "image/png": "[encoded data removed]",
      "text/plain": [
       "<Figure size 432x288 with 1 Axes>"
      ]
     },
     "metadata": {},
     "output_type": "display_data"
    }
   ],
   "source": [
    "plt.scatter(Y_test, test_data_prediction)\n",
    "plt.xlabel(\"Actual Price\")\n",
    "plt.ylabel(\"Predicted Price\")\n",
    "plt.title(\" Actual Prices vs Predicted Prices\")\n",
    "plt.show()"
   ]
  },
  {
   "cell_type": "markdown",
   "metadata": {},
   "source": [
    "#### Comparing R squared Error for all five ML models based on Test data."
   ]
  },
  {
   "cell_type": "code",
   "execution_count": 58,
   "metadata": {},
   "outputs": [
    {
     "name": "stdout",
     "output_type": "stream",
     "text": [
      "linear regression : 0.6027620872919218\n",
      "lasso regression : 0.6027529766366018\n",
      "Decision tree regressor : 0.15896592641186702\n",
      "Random forest : 0.6577850753099831\n",
      "Ridge regressor : 0.5997520675043784\n"
     ]
    }
   ],
   "source": [
    "for i in er_scores:\n",
    "    print(i)"
   ]
  },
  {
   "cell_type": "markdown",
   "metadata": {},
   "source": [
    "#### Random forest regressor seems to be the best model as per the R squared Error based on test data prediction, with R2 score of 63%."
   ]
  },
  {
   "cell_type": "code",
   "execution_count": 59,
   "metadata": {},
   "outputs": [
    {
     "data": {
      "text/plain": [
       "RandomForestRegressor(random_state=20)"
      ]
     },
     "execution_count": 59,
     "metadata": {},
     "output_type": "execute_result"
    }
   ],
   "source": [
    "rf"
   ]
  },
  {
   "cell_type": "code",
   "execution_count": 60,
   "metadata": {},
   "outputs": [],
   "source": [
    "import pickle\n",
    "with open(\"Random_Forest.pkl\",\"wb\") as f:\n",
    "    pickle.dump(rf, f)\n",
    "    \n",
    "    "
   ]
  }
 ],
 "metadata": {
  "colab": {
   "provenance": []
  },
  "kernelspec": {
   "display_name": "Python 3 (ipykernel)",
   "language": "python",
   "name": "python3"
  },
  "language_info": {
   "codemirror_mode": {
    "name": "ipython",
    "version": 3
   },
   "file_extension": ".py",
   "mimetype": "text/x-python",
   "name": "python",
   "nbconvert_exporter": "python",
   "pygments_lexer": "ipython3",
   "version": "3.9.12"
  }
 },
 "nbformat": 4,
 "nbformat_minor": 1
}
